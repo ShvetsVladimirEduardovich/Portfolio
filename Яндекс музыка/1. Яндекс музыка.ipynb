{
 "cells": [
  {
   "cell_type": "markdown",
   "metadata": {
    "deletable": false,
    "editable": false,
    "id": "E0vqbgi9ay0H"
   },
   "source": [
    "# Яндекс Музыка"
   ]
  },
  {
   "cell_type": "markdown",
   "metadata": {
    "deletable": false,
    "editable": false,
    "id": "VUC88oWjTJw2"
   },
   "source": [
    "Сравнение Москвы и Петербурга окружено мифами. Например:\n",
    " * Москва — мегаполис, подчинённый жёсткому ритму рабочей недели;\n",
    " * Петербург — культурная столица, со своими вкусами.\n",
    "\n",
    "На данных Яндекс Музыки вы сравните поведение пользователей двух столиц.\n",
    "\n",
    "**Цель исследования** — проверьте три гипотезы:\n",
    "1. Активность пользователей зависит от дня недели. Причём в Москве и Петербурге это проявляется по-разному.\n",
    "2. В понедельник утром в Москве преобладают одни жанры, а в Петербурге — другие. Так же и вечером пятницы преобладают разные жанры — в зависимости от города. \n",
    "3. Москва и Петербург предпочитают разные жанры музыки. В Москве чаще слушают поп-музыку, в Петербурге — русский рэп.\n",
    "\n",
    "**Ход исследования**\n",
    "\n",
    "Данные о поведении пользователей вы получите из файла `yandex_music_project.csv`. О качестве данных ничего не известно. Поэтому перед проверкой гипотез понадобится обзор данных. \n",
    "\n",
    "Вы проверите данные на ошибки и оцените их влияние на исследование. Затем, на этапе предобработки вы поищете возможность исправить самые критичные ошибки данных.\n",
    " \n",
    "Таким образом, исследование пройдёт в три этапа:\n",
    " 1. Обзор данных.\n",
    " 2. Предобработка данных.\n",
    " 3. Проверка гипотез.\n",
    "\n"
   ]
  },
  {
   "cell_type": "markdown",
   "metadata": {
    "deletable": false,
    "editable": false,
    "id": "Ml1hmfXC_Zcs"
   },
   "source": [
    "## Обзор данных\n",
    "\n",
    "Составьте первое представление о данных Яндекс Музыки.\n",
    "\n",
    "\n"
   ]
  },
  {
   "cell_type": "markdown",
   "metadata": {
    "deletable": false,
    "editable": false,
    "id": "57eAOGIz_Zcs",
    "tags": [
     "start_task"
    ]
   },
   "source": [
    "**Задание 1**\n",
    "\n",
    "Основной инструмент аналитика — `pandas`. Импортируйте эту библиотеку."
   ]
  },
  {
   "cell_type": "code",
   "execution_count": 1,
   "metadata": {
    "deletable": false,
    "id": "AXN7PHPN_Zcs"
   },
   "outputs": [],
   "source": [
    "import pandas as pd # импорт библиотеки pandas"
   ]
  },
  {
   "cell_type": "markdown",
   "metadata": {
    "deletable": false,
    "editable": false,
    "id": "SG23P8tt_Zcs",
    "tags": [
     "start_task"
    ]
   },
   "source": [
    "**Задание 2**\n",
    "\n",
    "Прочитайте файл `yandex_music_project.csv` из папки `/datasets` и сохраните его в переменной `df`:"
   ]
  },
  {
   "cell_type": "code",
   "execution_count": 2,
   "metadata": {
    "deletable": false,
    "id": "fFVu7vqh_Zct"
   },
   "outputs": [],
   "source": [
    "df = pd.read_csv('/datasets/yandex_music_project.csv') # чтение файла с данными и сохранение в df"
   ]
  },
  {
   "cell_type": "markdown",
   "metadata": {
    "deletable": false,
    "editable": false,
    "id": "rDoOMd3uTqnZ",
    "tags": [
     "start_task"
    ]
   },
   "source": [
    "**Задание 3**\n",
    "\n",
    "\n",
    "Выведите на экран первые десять строк таблицы:"
   ]
  },
  {
   "cell_type": "code",
   "execution_count": 3,
   "metadata": {
    "deletable": false,
    "id": "oWTVX3gW_Zct"
   },
   "outputs": [
    {
     "name": "stdout",
     "output_type": "stream",
     "text": [
      "     userID                        Track            artist   genre  \\\n",
      "0  FFB692EC            Kamigata To Boots  The Mass Missile    rock   \n",
      "1  55204538  Delayed Because of Accident  Andreas Rönnberg    rock   \n",
      "2    20EC38            Funiculì funiculà       Mario Lanza     pop   \n",
      "3  A3DD03C9        Dragons in the Sunset        Fire + Ice    folk   \n",
      "4  E2DC1FAE                  Soul People        Space Echo   dance   \n",
      "5  842029A1                    Преданная         IMPERVTOR  rusrap   \n",
      "6  4CB90AA5                         True      Roman Messer   dance   \n",
      "7  F03E1C1F             Feeling This Way   Polina Griffith   dance   \n",
      "8  8FA1D3BE     И вновь продолжается бой               NaN  ruspop   \n",
      "9  E772D5C0                    Pessimist               NaN   dance   \n",
      "\n",
      "             City        time        Day  \n",
      "0  Saint-Petersburg  20:28:33  Wednesday  \n",
      "1            Moscow  14:07:09     Friday  \n",
      "2  Saint-Petersburg  20:58:07  Wednesday  \n",
      "3  Saint-Petersburg  08:37:09     Monday  \n",
      "4            Moscow  08:34:34     Monday  \n",
      "5  Saint-Petersburg  13:09:41     Friday  \n",
      "6            Moscow  13:00:07  Wednesday  \n",
      "7            Moscow  20:47:49  Wednesday  \n",
      "8            Moscow  09:17:40     Friday  \n",
      "9  Saint-Petersburg  21:20:49  Wednesday  \n"
     ]
    }
   ],
   "source": [
    "print(df.head(10))# получение первых 10 строк таблицы df"
   ]
  },
  {
   "cell_type": "markdown",
   "metadata": {
    "deletable": false,
    "editable": false,
    "id": "EO73Kwic_Zct",
    "tags": [
     "start_task"
    ]
   },
   "source": [
    "**Задание 4**\n",
    "\n",
    "\n",
    "Одной командой получить общую информацию о таблице c помощью метода `info()`:"
   ]
  },
  {
   "cell_type": "code",
   "execution_count": 4,
   "metadata": {
    "deletable": false,
    "id": "DSf2kIb-_Zct"
   },
   "outputs": [
    {
     "name": "stdout",
     "output_type": "stream",
     "text": [
      "<class 'pandas.core.frame.DataFrame'>\n",
      "RangeIndex: 65079 entries, 0 to 65078\n",
      "Data columns (total 7 columns):\n",
      " #   Column    Non-Null Count  Dtype \n",
      "---  ------    --------------  ----- \n",
      " 0     userID  65079 non-null  object\n",
      " 1   Track     63848 non-null  object\n",
      " 2   artist    57876 non-null  object\n",
      " 3   genre     63881 non-null  object\n",
      " 4     City    65079 non-null  object\n",
      " 5   time      65079 non-null  object\n",
      " 6   Day       65079 non-null  object\n",
      "dtypes: object(7)\n",
      "memory usage: 3.5+ MB\n"
     ]
    }
   ],
   "source": [
    "df.info() # получение общей информации о данных в таблице df"
   ]
  },
  {
   "cell_type": "markdown",
   "metadata": {
    "deletable": false,
    "editable": false,
    "id": "TaQ2Iwbr_Zct"
   },
   "source": [
    "Итак, в таблице семь столбцов. Тип данных во всех столбцах — `object`.\n",
    "\n",
    "Согласно документации к данным:\n",
    "* `userID` — идентификатор пользователя;\n",
    "* `Track` — название трека;  \n",
    "* `artist` — имя исполнителя;\n",
    "* `genre` — название жанра;\n",
    "* `City` — город пользователя;\n",
    "* `time` — время начала прослушивания;\n",
    "* `Day` — день недели.\n",
    "\n",
    "Количество значений в столбцах различается. Значит, в данных есть пропущенные значения."
   ]
  },
  {
   "cell_type": "markdown",
   "metadata": {
    "deletable": false,
    "editable": false,
    "id": "rAfziTBDmf2h",
    "tags": [
     "start_task"
    ]
   },
   "source": [
    "**Задание 5**\n",
    "\n",
    "**Вопрос со свободной формой ответа**\n",
    "\n",
    "В названиях колонок видны нарушения стиля:\n",
    "* Строчные буквы сочетаются с прописными.\n",
    "* Встречаются пробелы.\n",
    "\n",
    "Какое третье нарушение?"
   ]
  },
  {
   "cell_type": "code",
   "execution_count": 5,
   "metadata": {
    "id": "jD8EXEIvmf2h"
   },
   "outputs": [],
   "source": [
    "#отсутствие нижниего подчеркивания, т.е. змеинного регистра # Напишите ваш ответ здесь комментарием. Не удаляйте символ #. Не меняйте тип этой ячейки на Markdown."
   ]
  },
  {
   "cell_type": "markdown",
   "metadata": {
    "deletable": false,
    "editable": false,
    "id": "MCB6-dXG_Zct"
   },
   "source": [
    "**Выводы**\n",
    "\n",
    "В каждой строке таблицы — данные о прослушанном треке. Часть колонок описывает саму композицию: название, исполнителя и жанр. Остальные данные рассказывают о пользователе: из какого он города, когда он слушал музыку. \n",
    "\n",
    "Предварительно можно утверждать, что данных достаточно для проверки гипотез. Но встречаются пропуски в данных, а в названиях колонок — расхождения с хорошим стилем.\n",
    "\n",
    "Чтобы двигаться дальше, нужно устранить проблемы в данных."
   ]
  },
  {
   "cell_type": "markdown",
   "metadata": {
    "deletable": false,
    "editable": false,
    "id": "SjYF6Ub9_Zct"
   },
   "source": [
    "## Предобработка данных\n",
    "Исправьте стиль в заголовках столбцов, исключите пропуски. Затем проверьте данные на дубликаты."
   ]
  },
  {
   "cell_type": "markdown",
   "metadata": {
    "deletable": false,
    "editable": false,
    "id": "dIaKXr29_Zct",
    "tags": [
     "start_task"
    ]
   },
   "source": [
    "### Стиль заголовков\n",
    "\n",
    "**Задание 6**\n",
    "\n",
    "Выведите на экран названия столбцов:"
   ]
  },
  {
   "cell_type": "code",
   "execution_count": 6,
   "metadata": {
    "deletable": false,
    "id": "oKOTdF_Q_Zct"
   },
   "outputs": [
    {
     "name": "stdout",
     "output_type": "stream",
     "text": [
      "Index(['  userID', 'Track', 'artist', 'genre', '  City  ', 'time', 'Day'], dtype='object')\n"
     ]
    }
   ],
   "source": [
    "print(df.columns)# перечень названий столбцов таблицы df"
   ]
  },
  {
   "cell_type": "markdown",
   "metadata": {
    "deletable": false,
    "editable": false,
    "id": "zj5534cv_Zct",
    "tags": [
     "start_task"
    ]
   },
   "source": [
    "**Задание 7**\n",
    "\n",
    "\n",
    "Приведите названия в соответствие с хорошим стилем:\n",
    "* несколько слов в названии запишите в «змеином_регистре»,\n",
    "* все символы сделайте строчными,\n",
    "* устраните пробелы.\n",
    "\n",
    "Для этого переименуйте колонки так:\n",
    "* `'  userID'` → `'user_id'`;\n",
    "* `'Track'` → `'track'`;\n",
    "* `'  City  '` → `'city'`;\n",
    "* `'Day'` → `'day'`."
   ]
  },
  {
   "cell_type": "code",
   "execution_count": 7,
   "metadata": {
    "deletable": false,
    "id": "ISlFqs5y_Zct"
   },
   "outputs": [],
   "source": [
    "df=df.rename(columns={'  userID':'user_id','Track':'track','  City  ':'city','Day':'day'}) # переименование столбцов"
   ]
  },
  {
   "cell_type": "markdown",
   "metadata": {
    "deletable": false,
    "editable": false,
    "id": "1dqbh00J_Zct",
    "tags": [
     "start_task"
    ]
   },
   "source": [
    "**Задание 8**\n",
    "\n",
    "\n",
    "Проверьте результат. Для этого ещё раз выведите на экран названия столбцов:"
   ]
  },
  {
   "cell_type": "code",
   "execution_count": 8,
   "metadata": {
    "deletable": false,
    "id": "d4NOAmTW_Zct"
   },
   "outputs": [
    {
     "name": "stdout",
     "output_type": "stream",
     "text": [
      "Index(['user_id', 'track', 'artist', 'genre', 'city', 'time', 'day'], dtype='object')\n"
     ]
    }
   ],
   "source": [
    "print(df.columns)# проверка результатов - перечень названий столбцов"
   ]
  },
  {
   "cell_type": "markdown",
   "metadata": {
    "deletable": false,
    "editable": false,
    "id": "5ISfbcfY_Zct",
    "tags": [
     "start_task"
    ]
   },
   "source": [
    "### Пропуски значений\n",
    "\n",
    "**Задание 9**\n",
    "\n",
    "Сначала посчитайте, сколько в таблице пропущенных значений. Для этого достаточно двух методов `pandas`:"
   ]
  },
  {
   "cell_type": "code",
   "execution_count": 9,
   "metadata": {
    "deletable": false,
    "id": "RskX29qr_Zct",
    "scrolled": true
   },
   "outputs": [
    {
     "data": {
      "text/plain": [
       "user_id       0\n",
       "track      1231\n",
       "artist     7203\n",
       "genre      1198\n",
       "city          0\n",
       "time          0\n",
       "day           0\n",
       "dtype: int64"
      ]
     },
     "execution_count": 9,
     "metadata": {},
     "output_type": "execute_result"
    }
   ],
   "source": [
    "df.isna().sum() # подсчёт пропусков"
   ]
  },
  {
   "cell_type": "markdown",
   "metadata": {
    "deletable": false,
    "editable": false,
    "id": "qubhgnlO_Zct"
   },
   "source": [
    "Не все пропущенные значения влияют на исследование. Так в `track` и `artist` пропуски не важны для вашей работы. Достаточно заменить их явными обозначениями.\n",
    "\n",
    "Но пропуски в `genre` могут помешать сравнению музыкальных вкусов в Москве и Санкт-Петербурге. На практике было бы правильно установить причину пропусков и восстановить данные. Такой возможности нет в учебном проекте. Придётся:\n",
    "* заполнить и эти пропуски явными обозначениями;\n",
    "* оценить, насколько они повредят расчётам. "
   ]
  },
  {
   "cell_type": "markdown",
   "metadata": {
    "deletable": false,
    "editable": false,
    "id": "fSv2laPA_Zct",
    "tags": [
     "start_task"
    ]
   },
   "source": [
    "**Задание 10**\n",
    "\n",
    "Замените пропущенные значения в столбцах `track`, `artist` и `genre` на строку `'unknown'`. Для этого создайте список `columns_to_replace`, переберите его элементы циклом `for` и для каждого столбца выполните замену пропущенных значений:"
   ]
  },
  {
   "cell_type": "code",
   "execution_count": 10,
   "metadata": {
    "deletable": false,
    "id": "KplB5qWs_Zct"
   },
   "outputs": [],
   "source": [
    "columns_to_replace=['track','artist','genre']\n",
    "for columns in columns_to_replace:\n",
    "    df['track']=df['track'].fillna('unknown')\n",
    "    df['artist']=df['artist'].fillna('unknown')\n",
    "    df['genre']=df['genre'].fillna('unknown')\n",
    "        \n",
    "# перебор названий столбцов в цикле и замена пропущенных значений на 'unknown'"
   ]
  },
  {
   "cell_type": "markdown",
   "metadata": {
    "deletable": false,
    "editable": false,
    "id": "Ilsm-MZo_Zct",
    "tags": [
     "start_task"
    ]
   },
   "source": [
    "**Задание 11**\n",
    "\n",
    "Убедитесь, что в таблице не осталось пропусков. Для этого ещё раз посчитайте пропущенные значения."
   ]
  },
  {
   "cell_type": "code",
   "execution_count": 11,
   "metadata": {
    "deletable": false,
    "id": "Tq4nYRX4_Zct"
   },
   "outputs": [
    {
     "data": {
      "text/plain": [
       "user_id    0\n",
       "track      0\n",
       "artist     0\n",
       "genre      0\n",
       "city       0\n",
       "time       0\n",
       "day        0\n",
       "dtype: int64"
      ]
     },
     "execution_count": 11,
     "metadata": {},
     "output_type": "execute_result"
    }
   ],
   "source": [
    "df.isna().sum() # подсчёт пропусков"
   ]
  },
  {
   "cell_type": "markdown",
   "metadata": {
    "deletable": false,
    "editable": false,
    "id": "BWKRtBJ3_Zct",
    "tags": [
     "start_task"
    ]
   },
   "source": [
    "### Дубликаты\n",
    "\n",
    "**Задание 12**\n",
    "\n",
    "Посчитайте явные дубликаты в таблице одной командой:"
   ]
  },
  {
   "cell_type": "code",
   "execution_count": 12,
   "metadata": {
    "deletable": false,
    "id": "36eES_S0_Zct",
    "scrolled": false
   },
   "outputs": [
    {
     "data": {
      "text/plain": [
       "3826"
      ]
     },
     "execution_count": 12,
     "metadata": {},
     "output_type": "execute_result"
    }
   ],
   "source": [
    "df.duplicated().sum() # подсчёт явных дубликатов"
   ]
  },
  {
   "cell_type": "markdown",
   "metadata": {
    "deletable": false,
    "editable": false,
    "id": "Ot25h6XR_Zct",
    "tags": [
     "start_task"
    ]
   },
   "source": [
    "**Задание 13**\n",
    "\n",
    "Вызовите специальный метод `pandas`, чтобы удалить явные дубликаты:"
   ]
  },
  {
   "cell_type": "code",
   "execution_count": 13,
   "metadata": {
    "deletable": false,
    "id": "exFHq6tt_Zct"
   },
   "outputs": [],
   "source": [
    "df=df.drop_duplicates().reset_index(drop=True) # удаление явных дубликатов"
   ]
  },
  {
   "cell_type": "markdown",
   "metadata": {
    "deletable": false,
    "editable": false,
    "id": "Im2YwBEG_Zct",
    "tags": [
     "start_task"
    ]
   },
   "source": [
    "**Задание 14**\n",
    "\n",
    "Ещё раз посчитайте явные дубликаты в таблице — убедитесь, что полностью от них избавились:"
   ]
  },
  {
   "cell_type": "code",
   "execution_count": 14,
   "metadata": {
    "deletable": false,
    "id": "-8PuNWQ0_Zct"
   },
   "outputs": [
    {
     "data": {
      "text/plain": [
       "0"
      ]
     },
     "execution_count": 14,
     "metadata": {},
     "output_type": "execute_result"
    }
   ],
   "source": [
    "df.duplicated().sum() # проверка на отсутствие дубликатов"
   ]
  },
  {
   "cell_type": "markdown",
   "metadata": {
    "deletable": false,
    "editable": false,
    "id": "QlFBsxAr_Zct"
   },
   "source": [
    "Теперь избавьтесь от неявных дубликатов в колонке `genre`. Например, название одного и того же жанра может быть записано немного по-разному. Такие ошибки тоже повлияют на результат исследования."
   ]
  },
  {
   "cell_type": "markdown",
   "metadata": {
    "deletable": false,
    "editable": false,
    "id": "eSjWwsOh_Zct",
    "tags": [
     "start_task"
    ]
   },
   "source": [
    "**Задание 15**\n",
    "\n",
    "Выведите на экран список уникальных названий жанров, отсортированный в алфавитном порядке. Для этого:\n",
    "1. извлеките нужный столбец датафрейма; \n",
    "2. примените к нему метод сортировки;\n",
    "3. для отсортированного столбца вызовите метод, который вернёт уникальные значения из столбца."
   ]
  },
  {
   "cell_type": "code",
   "execution_count": 15,
   "metadata": {
    "deletable": false,
    "id": "JIUcqzZN_Zct"
   },
   "outputs": [
    {
     "data": {
      "text/plain": [
       "array(['acid', 'acoustic', 'action', 'adult', 'africa', 'afrikaans',\n",
       "       'alternative', 'alternativepunk', 'ambient', 'americana',\n",
       "       'animated', 'anime', 'arabesk', 'arabic', 'arena',\n",
       "       'argentinetango', 'art', 'audiobook', 'author', 'avantgarde',\n",
       "       'axé', 'baile', 'balkan', 'beats', 'bigroom', 'black', 'bluegrass',\n",
       "       'blues', 'bollywood', 'bossa', 'brazilian', 'breakbeat', 'breaks',\n",
       "       'broadway', 'cantautori', 'cantopop', 'canzone', 'caribbean',\n",
       "       'caucasian', 'celtic', 'chamber', 'chanson', 'children', 'chill',\n",
       "       'chinese', 'choral', 'christian', 'christmas', 'classical',\n",
       "       'classicmetal', 'club', 'colombian', 'comedy', 'conjazz',\n",
       "       'contemporary', 'country', 'cuban', 'dance', 'dancehall',\n",
       "       'dancepop', 'dark', 'death', 'deep', 'deutschrock', 'deutschspr',\n",
       "       'dirty', 'disco', 'dnb', 'documentary', 'downbeat', 'downtempo',\n",
       "       'drum', 'dub', 'dubstep', 'eastern', 'easy', 'electronic',\n",
       "       'electropop', 'emo', 'entehno', 'epicmetal', 'estrada', 'ethnic',\n",
       "       'eurofolk', 'european', 'experimental', 'extrememetal', 'fado',\n",
       "       'fairytail', 'film', 'fitness', 'flamenco', 'folk', 'folklore',\n",
       "       'folkmetal', 'folkrock', 'folktronica', 'forró', 'frankreich',\n",
       "       'französisch', 'french', 'funk', 'future', 'gangsta', 'garage',\n",
       "       'german', 'ghazal', 'gitarre', 'glitch', 'gospel', 'gothic',\n",
       "       'grime', 'grunge', 'gypsy', 'handsup', \"hard'n'heavy\", 'hardcore',\n",
       "       'hardstyle', 'hardtechno', 'hip', 'hip-hop', 'hiphop',\n",
       "       'historisch', 'holiday', 'hop', 'horror', 'house', 'hymn', 'idm',\n",
       "       'independent', 'indian', 'indie', 'indipop', 'industrial',\n",
       "       'inspirational', 'instrumental', 'international', 'irish', 'jam',\n",
       "       'japanese', 'jazz', 'jewish', 'jpop', 'jungle', 'k-pop',\n",
       "       'karadeniz', 'karaoke', 'kayokyoku', 'korean', 'laiko', 'latin',\n",
       "       'latino', 'leftfield', 'local', 'lounge', 'loungeelectronic',\n",
       "       'lovers', 'malaysian', 'mandopop', 'marschmusik', 'meditative',\n",
       "       'mediterranean', 'melodic', 'metal', 'metalcore', 'mexican',\n",
       "       'middle', 'minimal', 'miscellaneous', 'modern', 'mood', 'mpb',\n",
       "       'muslim', 'native', 'neoklassik', 'neue', 'new', 'newage',\n",
       "       'newwave', 'nu', 'nujazz', 'numetal', 'oceania', 'old', 'opera',\n",
       "       'orchestral', 'other', 'piano', 'podcasts', 'pop', 'popdance',\n",
       "       'popelectronic', 'popeurodance', 'poprussian', 'post',\n",
       "       'posthardcore', 'postrock', 'power', 'progmetal', 'progressive',\n",
       "       'psychedelic', 'punjabi', 'punk', 'quebecois', 'ragga', 'ram',\n",
       "       'rancheras', 'rap', 'rave', 'reggae', 'reggaeton', 'regional',\n",
       "       'relax', 'religious', 'retro', 'rhythm', 'rnb', 'rnr', 'rock',\n",
       "       'rockabilly', 'rockalternative', 'rockindie', 'rockother',\n",
       "       'romance', 'roots', 'ruspop', 'rusrap', 'rusrock', 'russian',\n",
       "       'salsa', 'samba', 'scenic', 'schlager', 'self', 'sertanejo',\n",
       "       'shanson', 'shoegazing', 'showtunes', 'singer', 'ska', 'skarock',\n",
       "       'slow', 'smooth', 'soft', 'soul', 'soulful', 'sound', 'soundtrack',\n",
       "       'southern', 'specialty', 'speech', 'spiritual', 'sport',\n",
       "       'stonerrock', 'surf', 'swing', 'synthpop', 'synthrock',\n",
       "       'sängerportrait', 'tango', 'tanzorchester', 'taraftar', 'tatar',\n",
       "       'tech', 'techno', 'teen', 'thrash', 'top', 'traditional',\n",
       "       'tradjazz', 'trance', 'tribal', 'trip', 'triphop', 'tropical',\n",
       "       'türk', 'türkçe', 'ukrrock', 'unknown', 'urban', 'uzbek',\n",
       "       'variété', 'vi', 'videogame', 'vocal', 'western', 'world',\n",
       "       'worldbeat', 'ïîï', 'электроника'], dtype=object)"
      ]
     },
     "execution_count": 15,
     "metadata": {},
     "output_type": "execute_result"
    }
   ],
   "source": [
    "df.groupby('genre')\n",
    "df['genre'].sort_values().unique()\n",
    "\n",
    "\n",
    "# Просмотр уникальных названий жанров"
   ]
  },
  {
   "cell_type": "markdown",
   "metadata": {
    "deletable": false,
    "editable": false,
    "id": "qej-Qmuo_Zct",
    "tags": [
     "start_task"
    ]
   },
   "source": [
    "**Задание 16**\n",
    "\n",
    "Просмотрите список и найдите неявные дубликаты названия `hiphop`. Это могут быть названия с ошибками или альтернативные названия того же жанра.\n",
    "\n",
    "Вы увидите следующие неявные дубликаты:\n",
    "* *hip*,\n",
    "* *hop*,\n",
    "* *hip-hop*.\n",
    "\n",
    "Чтобы очистить от них таблицу используйте метод `replace()` с двумя аргументами: списком строк-дубликатов (включащий *hip*, *hop* и *hip-hop*) и строкой с правильным значением. Вам нужно исправить колонку `genre` в таблице `df`: заменить каждое значение из списка дубликатов на верное. Вместо `hip`, `hop` и `hip-hop` в таблице должно быть значение `hiphop`:"
   ]
  },
  {
   "cell_type": "code",
   "execution_count": 16,
   "metadata": {
    "deletable": false,
    "id": "ErNDkmns_Zct"
   },
   "outputs": [],
   "source": [
    "duplicates = ['hip','hop','hip-hop']\n",
    "genre = 'hiphop'\n",
    "df['genre']=df['genre'].replace(duplicates,genre) \n",
    "\n",
    "# Устранение неявных дубликатов"
   ]
  },
  {
   "cell_type": "markdown",
   "metadata": {
    "deletable": false,
    "editable": false,
    "id": "zQKF16_RG15m",
    "tags": [
     "start_task"
    ]
   },
   "source": [
    "**Задание 17**\n",
    "\n",
    "Проверьте, что заменили неправильные названия:\n",
    "\n",
    "*   hip,\n",
    "*   hop,\n",
    "*   hip-hop.\n",
    "\n",
    "Выведите отсортированный список уникальных значений столбца `genre`:"
   ]
  },
  {
   "cell_type": "code",
   "execution_count": 17,
   "metadata": {
    "deletable": false,
    "id": "wvixALnFG15m"
   },
   "outputs": [
    {
     "name": "stdout",
     "output_type": "stream",
     "text": [
      "['acid' 'acoustic' 'action' 'adult' 'africa' 'afrikaans' 'alternative'\n",
      " 'alternativepunk' 'ambient' 'americana' 'animated' 'anime' 'arabesk'\n",
      " 'arabic' 'arena' 'argentinetango' 'art' 'audiobook' 'author' 'avantgarde'\n",
      " 'axé' 'baile' 'balkan' 'beats' 'bigroom' 'black' 'bluegrass' 'blues'\n",
      " 'bollywood' 'bossa' 'brazilian' 'breakbeat' 'breaks' 'broadway'\n",
      " 'cantautori' 'cantopop' 'canzone' 'caribbean' 'caucasian' 'celtic'\n",
      " 'chamber' 'chanson' 'children' 'chill' 'chinese' 'choral' 'christian'\n",
      " 'christmas' 'classical' 'classicmetal' 'club' 'colombian' 'comedy'\n",
      " 'conjazz' 'contemporary' 'country' 'cuban' 'dance' 'dancehall' 'dancepop'\n",
      " 'dark' 'death' 'deep' 'deutschrock' 'deutschspr' 'dirty' 'disco' 'dnb'\n",
      " 'documentary' 'downbeat' 'downtempo' 'drum' 'dub' 'dubstep' 'eastern'\n",
      " 'easy' 'electronic' 'electropop' 'emo' 'entehno' 'epicmetal' 'estrada'\n",
      " 'ethnic' 'eurofolk' 'european' 'experimental' 'extrememetal' 'fado'\n",
      " 'fairytail' 'film' 'fitness' 'flamenco' 'folk' 'folklore' 'folkmetal'\n",
      " 'folkrock' 'folktronica' 'forró' 'frankreich' 'französisch' 'french'\n",
      " 'funk' 'future' 'gangsta' 'garage' 'german' 'ghazal' 'gitarre' 'glitch'\n",
      " 'gospel' 'gothic' 'grime' 'grunge' 'gypsy' 'handsup' \"hard'n'heavy\"\n",
      " 'hardcore' 'hardstyle' 'hardtechno' 'hiphop' 'historisch' 'holiday'\n",
      " 'horror' 'house' 'hymn' 'idm' 'independent' 'indian' 'indie' 'indipop'\n",
      " 'industrial' 'inspirational' 'instrumental' 'international' 'irish' 'jam'\n",
      " 'japanese' 'jazz' 'jewish' 'jpop' 'jungle' 'k-pop' 'karadeniz' 'karaoke'\n",
      " 'kayokyoku' 'korean' 'laiko' 'latin' 'latino' 'leftfield' 'local'\n",
      " 'lounge' 'loungeelectronic' 'lovers' 'malaysian' 'mandopop' 'marschmusik'\n",
      " 'meditative' 'mediterranean' 'melodic' 'metal' 'metalcore' 'mexican'\n",
      " 'middle' 'minimal' 'miscellaneous' 'modern' 'mood' 'mpb' 'muslim'\n",
      " 'native' 'neoklassik' 'neue' 'new' 'newage' 'newwave' 'nu' 'nujazz'\n",
      " 'numetal' 'oceania' 'old' 'opera' 'orchestral' 'other' 'piano' 'podcasts'\n",
      " 'pop' 'popdance' 'popelectronic' 'popeurodance' 'poprussian' 'post'\n",
      " 'posthardcore' 'postrock' 'power' 'progmetal' 'progressive' 'psychedelic'\n",
      " 'punjabi' 'punk' 'quebecois' 'ragga' 'ram' 'rancheras' 'rap' 'rave'\n",
      " 'reggae' 'reggaeton' 'regional' 'relax' 'religious' 'retro' 'rhythm'\n",
      " 'rnb' 'rnr' 'rock' 'rockabilly' 'rockalternative' 'rockindie' 'rockother'\n",
      " 'romance' 'roots' 'ruspop' 'rusrap' 'rusrock' 'russian' 'salsa' 'samba'\n",
      " 'scenic' 'schlager' 'self' 'sertanejo' 'shanson' 'shoegazing' 'showtunes'\n",
      " 'singer' 'ska' 'skarock' 'slow' 'smooth' 'soft' 'soul' 'soulful' 'sound'\n",
      " 'soundtrack' 'southern' 'specialty' 'speech' 'spiritual' 'sport'\n",
      " 'stonerrock' 'surf' 'swing' 'synthpop' 'synthrock' 'sängerportrait'\n",
      " 'tango' 'tanzorchester' 'taraftar' 'tatar' 'tech' 'techno' 'teen'\n",
      " 'thrash' 'top' 'traditional' 'tradjazz' 'trance' 'tribal' 'trip'\n",
      " 'triphop' 'tropical' 'türk' 'türkçe' 'ukrrock' 'unknown' 'urban' 'uzbek'\n",
      " 'variété' 'vi' 'videogame' 'vocal' 'western' 'world' 'worldbeat' 'ïîï'\n",
      " 'электроника']\n"
     ]
    }
   ],
   "source": [
    "print(df['genre'].sort_values().unique())\n",
    "\n",
    "# Проверка на неявные дубликаты"
   ]
  },
  {
   "cell_type": "markdown",
   "metadata": {
    "deletable": false,
    "editable": false,
    "id": "jz6a9-7HQUDd"
   },
   "source": [
    "**Выводы**\n",
    "\n",
    "Предобработка обнаружила три проблемы в данных:\n",
    "\n",
    "- нарушения в стиле заголовков,\n",
    "- пропущенные значения,\n",
    "- дубликаты — явные и неявные.\n",
    "\n",
    "Вы исправили заголовки, чтобы упростить работу с таблицей. Без дубликатов исследование станет более точным.\n",
    "\n",
    "Пропущенные значения вы заменили на `'unknown'`. Ещё предстоит увидеть, не повредят ли исследованию пропуски в колонке `genre`.\n",
    "\n",
    "Теперь можно перейти к проверке гипотез. "
   ]
  },
  {
   "cell_type": "markdown",
   "metadata": {
    "deletable": false,
    "editable": false,
    "id": "WttZHXH0SqKk"
   },
   "source": [
    "## Проверка гипотез"
   ]
  },
  {
   "cell_type": "markdown",
   "metadata": {
    "deletable": false,
    "editable": false,
    "id": "Im936VVi_Zcu"
   },
   "source": [
    "### Сравнение поведения пользователей двух столиц"
   ]
  },
  {
   "cell_type": "markdown",
   "metadata": {
    "deletable": false,
    "editable": false,
    "id": "nwt_MuaL_Zcu"
   },
   "source": [
    "Первая гипотеза утверждает, что пользователи по-разному слушают музыку в Москве и Санкт-Петербурге. Проверьте это предположение по данным о трёх днях недели — понедельнике, среде и пятнице. Для этого:\n",
    "\n",
    "* Разделите пользователей Москвы и Санкт-Петербурга.\n",
    "* Сравните, сколько треков послушала каждая группа пользователей в понедельник, среду и пятницу.\n"
   ]
  },
  {
   "cell_type": "markdown",
   "metadata": {
    "deletable": false,
    "editable": false,
    "id": "8Dw_YMmT_Zcu",
    "tags": [
     "start_task"
    ]
   },
   "source": [
    "**Задание 18**\n",
    "\n",
    "Для тренировки сначала выполните каждый из расчётов по отдельности. \n",
    "\n",
    "Оцените активность пользователей в каждом городе. Сгруппируйте данные по городу и посчитайте прослушивания в каждой группе.\n",
    "\n"
   ]
  },
  {
   "cell_type": "code",
   "execution_count": 18,
   "metadata": {
    "deletable": false,
    "id": "0_Qs96oh_Zcu"
   },
   "outputs": [
    {
     "name": "stdout",
     "output_type": "stream",
     "text": [
      "city\n",
      "Moscow              42741\n",
      "Saint-Petersburg    18512\n",
      "Name: time, dtype: int64\n"
     ]
    }
   ],
   "source": [
    "city_time=df.groupby('city')['time'].count()\n",
    "print(city_time)\n",
    "# Подсчёт прослушиваний в каждом городе"
   ]
  },
  {
   "cell_type": "markdown",
   "metadata": {
    "deletable": false,
    "editable": false,
    "id": "dzli3w8o_Zcu",
    "tags": [
     "start_task"
    ]
   },
   "source": [
    "В Москве прослушиваний больше, чем в Петербурге. Из этого не следует, что московские пользователи чаще слушают музыку. Просто самих пользователей в Москве больше.\n",
    "\n",
    "**Задание 19**\n",
    "\n",
    "Теперь сгруппируйте данные по дню недели и посчитайте прослушивания в понедельник, среду и пятницу. Учтите, что в данных есть информация о прослушиваниях только за эти дни.\n"
   ]
  },
  {
   "cell_type": "code",
   "execution_count": 19,
   "metadata": {
    "deletable": false,
    "id": "uZMKjiJz_Zcu"
   },
   "outputs": [
    {
     "name": "stdout",
     "output_type": "stream",
     "text": [
      "day\n",
      "Friday       21840\n",
      "Monday       21354\n",
      "Wednesday    18059\n",
      "Name: time, dtype: int64\n"
     ]
    }
   ],
   "source": [
    "city_time = df.groupby('day')['time'].count()\n",
    "print(city_time)\n",
    "\n",
    "# Подсчёт прослушиваний в каждый из трёх дней"
   ]
  },
  {
   "cell_type": "markdown",
   "metadata": {
    "deletable": false,
    "editable": false,
    "id": "cC2tNrlL_Zcu"
   },
   "source": [
    "В среднем пользователи из двух городов менее активны по средам. Но картина может измениться, если рассмотреть каждый город в отдельности."
   ]
  },
  {
   "cell_type": "markdown",
   "metadata": {
    "deletable": false,
    "editable": false,
    "id": "POzs8bGa_Zcu",
    "tags": [
     "start_task"
    ]
   },
   "source": [
    "**Задание 20**\n",
    "\n",
    "\n",
    "Вы видели, как работает группировка по городу и по дням недели. Теперь напишите функцию, которая объединит два эти расчёта.\n",
    "\n",
    "Создайте функцию `number_tracks()`, которая посчитает прослушивания для заданного дня и города. Ей понадобятся два параметра:\n",
    "* день недели,\n",
    "* название города.\n",
    "\n",
    "В функции сохраните в переменную строки исходной таблицы, у которых значение:\n",
    "  * в колонке `day` равно параметру `day`,\n",
    "  * в колонке `city` равно параметру `city`.\n",
    "\n",
    "Для этого примените последовательную фильтрацию с логической индексацией (или сложные логические выражения в одну строку, если вы уже знакомы с ними).\n",
    "\n",
    "Затем посчитайте значения в столбце `user_id` получившейся таблицы. Результат сохраните в новую переменную. Верните эту переменную из функции."
   ]
  },
  {
   "cell_type": "code",
   "execution_count": 20,
   "metadata": {
    "deletable": false,
    "id": "Nz3GdQB1_Zcu"
   },
   "outputs": [],
   "source": [
    " # <создание функции number_tracks()># Объявляется функция с двумя параметрами: day, city.\n",
    "\n",
    "def number_tracks(day,city):\n",
    "    track_list=df[df['day']==day]\n",
    "    track_list=track_list[track_list['city']==city]\n",
    "    track_list_count=track_list['user_id'].count()\n",
    "    return track_list_count \n",
    "\n",
    "# В переменной track_list сохраняются те строки таблицы df, для которых \n",
    "# значение в столбце 'day' равно параметру day и одновременно значение\n",
    "# в столбце 'city' равно параметру city (используйте последовательную фильтрацию\n",
    "# с помощью логической индексации или сложные логические выражения в одну строку, если вы уже знакомы с ними).\n",
    "# В переменной track_list_count сохраняется число значений столбца 'user_id',\n",
    "# рассчитанное методом count() для таблицы track_list.\n",
    "# Функция возвращает число - значение track_list_count.\n",
    "\n",
    "# Функция для подсчёта прослушиваний для конкретного города и дня.\n",
    "# С помощью последовательной фильтрации с логической индексацией она \n",
    "# сначала получит из исходной таблицы строки с нужным днём,\n",
    "# затем из результата отфильтрует строки с нужным городом,\n",
    "# методом count() посчитает количество значений в колонке user_id. \n",
    "# Это количество функция вернёт в качестве результата"
   ]
  },
  {
   "cell_type": "markdown",
   "metadata": {
    "deletable": false,
    "editable": false,
    "id": "ytf7xFrFJQ2r",
    "tags": [
     "start_task"
    ]
   },
   "source": [
    "**Задание 21**\n",
    "\n",
    "Вызовите `number_tracks()` шесть раз, меняя значение параметров — так, чтобы получить данные для каждого города в каждый из трёх дней."
   ]
  },
  {
   "cell_type": "code",
   "execution_count": 21,
   "metadata": {
    "deletable": false,
    "id": "rJcRATNQ_Zcu"
   },
   "outputs": [
    {
     "name": "stdout",
     "output_type": "stream",
     "text": [
      "15740\n"
     ]
    }
   ],
   "source": [
    "# количество прослушиваний в Москве по понедельникам\n",
    "def number_tracks(day,city):\n",
    "    track_list=df[df['day']==day]\n",
    "    track_list=track_list[track_list['city']==city]\n",
    "    track_list_count=track_list['user_id'].count()\n",
    "    return track_list_count\n",
    "number_tracks('Monday', 'Moscow')\n",
    "print(number_tracks('Monday', 'Moscow'))"
   ]
  },
  {
   "cell_type": "code",
   "execution_count": 22,
   "metadata": {
    "deletable": false,
    "id": "hq_ncZ5T_Zcu"
   },
   "outputs": [
    {
     "name": "stdout",
     "output_type": "stream",
     "text": [
      "5614\n"
     ]
    }
   ],
   "source": [
    "# количество прослушиваний в Санкт-Петербурге по понедельникам\n",
    "def number_tracks(day,city):\n",
    "    track_list=df[df['day']==day]\n",
    "    track_list=track_list[track_list['city']==city]\n",
    "    track_list_count=track_list['user_id'].count()\n",
    "    return track_list_count\n",
    "print(number_tracks('Monday', 'Saint-Petersburg'))"
   ]
  },
  {
   "cell_type": "code",
   "execution_count": 23,
   "metadata": {
    "deletable": false,
    "id": "_NTy2VPU_Zcu"
   },
   "outputs": [
    {
     "name": "stdout",
     "output_type": "stream",
     "text": [
      "11056\n"
     ]
    }
   ],
   "source": [
    "# количество прослушиваний в Москве по средам\n",
    "def number_tracks(day,city):\n",
    "    track_list=df[df['day']==day]\n",
    "    track_list=track_list[track_list['city']==city]\n",
    "    track_list_count=track_list['user_id'].count()\n",
    "    return track_list_count \n",
    "print(number_tracks('Wednesday', 'Moscow'))"
   ]
  },
  {
   "cell_type": "code",
   "execution_count": 24,
   "metadata": {
    "deletable": false,
    "id": "j2y3TAwo_Zcu"
   },
   "outputs": [
    {
     "name": "stdout",
     "output_type": "stream",
     "text": [
      "7003\n"
     ]
    }
   ],
   "source": [
    "# количество прослушиваний в Санкт-Петербурге по средам\n",
    "def number_tracks(day,city):\n",
    "    track_list=df[df['day']==day]\n",
    "    track_list=track_list[track_list['city']==city]\n",
    "    track_list_count=track_list['user_id'].count()\n",
    "    return track_list_count \n",
    "print(number_tracks('Wednesday', 'Saint-Petersburg'))"
   ]
  },
  {
   "cell_type": "code",
   "execution_count": 25,
   "metadata": {
    "deletable": false,
    "id": "vYDw5u_K_Zcu"
   },
   "outputs": [
    {
     "name": "stdout",
     "output_type": "stream",
     "text": [
      "15945\n"
     ]
    }
   ],
   "source": [
    "# количество прослушиваний в Москве по пятницам\n",
    "def number_tracks(day,city):\n",
    "    track_list=df[df['day']==day]\n",
    "    track_list=track_list[track_list['city']==city]\n",
    "    track_list_count=track_list['user_id'].count()\n",
    "    return track_list_count \n",
    "print(number_tracks('Friday', 'Moscow'))"
   ]
  },
  {
   "cell_type": "code",
   "execution_count": 26,
   "metadata": {
    "deletable": false,
    "id": "8_yzFtW3_Zcu"
   },
   "outputs": [
    {
     "name": "stdout",
     "output_type": "stream",
     "text": [
      "5895\n"
     ]
    }
   ],
   "source": [
    "# количество прослушиваний в Санкт-Петербурге по пятницам\n",
    "def number_tracks(day,city):\n",
    "    track_list=df[df['day']==day]\n",
    "    track_list=track_list[track_list['city']==city]\n",
    "    track_list_count=track_list['user_id'].count()\n",
    "    return track_list_count \n",
    "print(number_tracks('Friday', 'Saint-Petersburg'))"
   ]
  },
  {
   "cell_type": "markdown",
   "metadata": {
    "deletable": false,
    "editable": false,
    "id": "7QXffbO-_Zcu",
    "tags": [
     "start_task"
    ]
   },
   "source": [
    "**Задание 22**\n",
    "\n",
    "Создайте c помощью конструктора `pd.DataFrame` таблицу, где\n",
    "* названия колонок — `['city', 'monday', 'wednesday', 'friday']`;\n",
    "* данные — результаты, которые вы получили с помощью `number_tracks`."
   ]
  },
  {
   "cell_type": "code",
   "execution_count": 27,
   "metadata": {
    "deletable": false,
    "id": "APAcLpOr_Zcu"
   },
   "outputs": [
    {
     "data": {
      "text/html": [
       "<div>\n",
       "<style scoped>\n",
       "    .dataframe tbody tr th:only-of-type {\n",
       "        vertical-align: middle;\n",
       "    }\n",
       "\n",
       "    .dataframe tbody tr th {\n",
       "        vertical-align: top;\n",
       "    }\n",
       "\n",
       "    .dataframe thead th {\n",
       "        text-align: right;\n",
       "    }\n",
       "</style>\n",
       "<table border=\"1\" class=\"dataframe\">\n",
       "  <thead>\n",
       "    <tr style=\"text-align: right;\">\n",
       "      <th></th>\n",
       "      <th>city</th>\n",
       "      <th>monday</th>\n",
       "      <th>wednesday</th>\n",
       "      <th>friday</th>\n",
       "    </tr>\n",
       "  </thead>\n",
       "  <tbody>\n",
       "    <tr>\n",
       "      <th>0</th>\n",
       "      <td>Moscow</td>\n",
       "      <td>15740</td>\n",
       "      <td>11056</td>\n",
       "      <td>15945</td>\n",
       "    </tr>\n",
       "    <tr>\n",
       "      <th>1</th>\n",
       "      <td>Saint-Petersburg</td>\n",
       "      <td>5614</td>\n",
       "      <td>7003</td>\n",
       "      <td>5895</td>\n",
       "    </tr>\n",
       "  </tbody>\n",
       "</table>\n",
       "</div>"
      ],
      "text/plain": [
       "               city  monday  wednesday  friday\n",
       "0            Moscow   15740      11056   15945\n",
       "1  Saint-Petersburg    5614       7003    5895"
      ]
     },
     "execution_count": 27,
     "metadata": {},
     "output_type": "execute_result"
    }
   ],
   "source": [
    "stolb=['city', 'monday', 'wednesday', 'friday']\n",
    "dat=['Moscow',15740,11056,15945],['Saint-Petersburg', 5614,7003,5895]\n",
    "df_s=pd.DataFrame(data=dat, columns=stolb)\n",
    "df_s                  # Таблица с результатами"
   ]
  },
  {
   "cell_type": "markdown",
   "metadata": {
    "deletable": false,
    "editable": false,
    "id": "-EgPIHYu_Zcu"
   },
   "source": [
    "**Выводы**\n",
    "\n",
    "Данные показывают разницу поведения пользователей:\n",
    "\n",
    "- В Москве пик прослушиваний приходится на понедельник и пятницу, а в среду заметен спад.\n",
    "- В Петербурге, наоборот, больше слушают музыку по средам. Активность в понедельник и пятницу здесь почти в равной мере уступает среде.\n",
    "\n",
    "Значит, данные говорят в пользу первой гипотезы."
   ]
  },
  {
   "cell_type": "markdown",
   "metadata": {
    "deletable": false,
    "editable": false,
    "id": "atZAxtq4_Zcu"
   },
   "source": [
    "### Музыка в начале и в конце недели"
   ]
  },
  {
   "cell_type": "markdown",
   "metadata": {
    "deletable": false,
    "editable": false,
    "id": "eXrQqXFH_Zcu"
   },
   "source": [
    "Согласно второй гипотезе, утром в понедельник в Москве преобладают одни жанры, а в Петербурге — другие. Так же и вечером пятницы преобладают разные жанры — в зависимости от города."
   ]
  },
  {
   "cell_type": "markdown",
   "metadata": {
    "deletable": false,
    "editable": false,
    "id": "S8UcW6Hw_Zcu",
    "tags": [
     "start_task"
    ]
   },
   "source": [
    "**Задание 23**\n",
    "\n",
    "Сохраните таблицы с данными в две переменные:\n",
    "* по Москве — в `moscow_general`;\n",
    "* по Санкт-Петербургу — в `spb_general`."
   ]
  },
  {
   "cell_type": "code",
   "execution_count": 28,
   "metadata": {
    "deletable": false,
    "id": "qeaFfM_P_Zcu"
   },
   "outputs": [
    {
     "data": {
      "text/html": [
       "<div>\n",
       "<style scoped>\n",
       "    .dataframe tbody tr th:only-of-type {\n",
       "        vertical-align: middle;\n",
       "    }\n",
       "\n",
       "    .dataframe tbody tr th {\n",
       "        vertical-align: top;\n",
       "    }\n",
       "\n",
       "    .dataframe thead th {\n",
       "        text-align: right;\n",
       "    }\n",
       "</style>\n",
       "<table border=\"1\" class=\"dataframe\">\n",
       "  <thead>\n",
       "    <tr style=\"text-align: right;\">\n",
       "      <th></th>\n",
       "      <th>user_id</th>\n",
       "      <th>track</th>\n",
       "      <th>artist</th>\n",
       "      <th>genre</th>\n",
       "      <th>city</th>\n",
       "      <th>time</th>\n",
       "      <th>day</th>\n",
       "    </tr>\n",
       "  </thead>\n",
       "  <tbody>\n",
       "    <tr>\n",
       "      <th>1</th>\n",
       "      <td>55204538</td>\n",
       "      <td>Delayed Because of Accident</td>\n",
       "      <td>Andreas Rönnberg</td>\n",
       "      <td>rock</td>\n",
       "      <td>Moscow</td>\n",
       "      <td>14:07:09</td>\n",
       "      <td>Friday</td>\n",
       "    </tr>\n",
       "    <tr>\n",
       "      <th>4</th>\n",
       "      <td>E2DC1FAE</td>\n",
       "      <td>Soul People</td>\n",
       "      <td>Space Echo</td>\n",
       "      <td>dance</td>\n",
       "      <td>Moscow</td>\n",
       "      <td>08:34:34</td>\n",
       "      <td>Monday</td>\n",
       "    </tr>\n",
       "    <tr>\n",
       "      <th>6</th>\n",
       "      <td>4CB90AA5</td>\n",
       "      <td>True</td>\n",
       "      <td>Roman Messer</td>\n",
       "      <td>dance</td>\n",
       "      <td>Moscow</td>\n",
       "      <td>13:00:07</td>\n",
       "      <td>Wednesday</td>\n",
       "    </tr>\n",
       "    <tr>\n",
       "      <th>7</th>\n",
       "      <td>F03E1C1F</td>\n",
       "      <td>Feeling This Way</td>\n",
       "      <td>Polina Griffith</td>\n",
       "      <td>dance</td>\n",
       "      <td>Moscow</td>\n",
       "      <td>20:47:49</td>\n",
       "      <td>Wednesday</td>\n",
       "    </tr>\n",
       "    <tr>\n",
       "      <th>8</th>\n",
       "      <td>8FA1D3BE</td>\n",
       "      <td>И вновь продолжается бой</td>\n",
       "      <td>unknown</td>\n",
       "      <td>ruspop</td>\n",
       "      <td>Moscow</td>\n",
       "      <td>09:17:40</td>\n",
       "      <td>Friday</td>\n",
       "    </tr>\n",
       "    <tr>\n",
       "      <th>...</th>\n",
       "      <td>...</td>\n",
       "      <td>...</td>\n",
       "      <td>...</td>\n",
       "      <td>...</td>\n",
       "      <td>...</td>\n",
       "      <td>...</td>\n",
       "      <td>...</td>\n",
       "    </tr>\n",
       "    <tr>\n",
       "      <th>61247</th>\n",
       "      <td>83A474E7</td>\n",
       "      <td>I Worship Only What You Bleed</td>\n",
       "      <td>The Black Dahlia Murder</td>\n",
       "      <td>extrememetal</td>\n",
       "      <td>Moscow</td>\n",
       "      <td>21:07:12</td>\n",
       "      <td>Monday</td>\n",
       "    </tr>\n",
       "    <tr>\n",
       "      <th>61248</th>\n",
       "      <td>729CBB09</td>\n",
       "      <td>My Name</td>\n",
       "      <td>McLean</td>\n",
       "      <td>rnb</td>\n",
       "      <td>Moscow</td>\n",
       "      <td>13:32:28</td>\n",
       "      <td>Wednesday</td>\n",
       "    </tr>\n",
       "    <tr>\n",
       "      <th>61250</th>\n",
       "      <td>C5E3A0D5</td>\n",
       "      <td>Jalopiina</td>\n",
       "      <td>unknown</td>\n",
       "      <td>industrial</td>\n",
       "      <td>Moscow</td>\n",
       "      <td>20:09:26</td>\n",
       "      <td>Friday</td>\n",
       "    </tr>\n",
       "    <tr>\n",
       "      <th>61251</th>\n",
       "      <td>321D0506</td>\n",
       "      <td>Freight Train</td>\n",
       "      <td>Chas McDevitt</td>\n",
       "      <td>rock</td>\n",
       "      <td>Moscow</td>\n",
       "      <td>21:43:59</td>\n",
       "      <td>Friday</td>\n",
       "    </tr>\n",
       "    <tr>\n",
       "      <th>61252</th>\n",
       "      <td>3A64EF84</td>\n",
       "      <td>Tell Me Sweet Little Lies</td>\n",
       "      <td>Monica Lopez</td>\n",
       "      <td>country</td>\n",
       "      <td>Moscow</td>\n",
       "      <td>21:59:46</td>\n",
       "      <td>Friday</td>\n",
       "    </tr>\n",
       "  </tbody>\n",
       "</table>\n",
       "<p>42741 rows × 7 columns</p>\n",
       "</div>"
      ],
      "text/plain": [
       "        user_id                          track                   artist  \\\n",
       "1      55204538    Delayed Because of Accident         Andreas Rönnberg   \n",
       "4      E2DC1FAE                    Soul People               Space Echo   \n",
       "6      4CB90AA5                           True             Roman Messer   \n",
       "7      F03E1C1F               Feeling This Way          Polina Griffith   \n",
       "8      8FA1D3BE       И вновь продолжается бой                  unknown   \n",
       "...         ...                            ...                      ...   \n",
       "61247  83A474E7  I Worship Only What You Bleed  The Black Dahlia Murder   \n",
       "61248  729CBB09                        My Name                   McLean   \n",
       "61250  C5E3A0D5                      Jalopiina                  unknown   \n",
       "61251  321D0506                  Freight Train            Chas McDevitt   \n",
       "61252  3A64EF84      Tell Me Sweet Little Lies             Monica Lopez   \n",
       "\n",
       "              genre    city      time        day  \n",
       "1              rock  Moscow  14:07:09     Friday  \n",
       "4             dance  Moscow  08:34:34     Monday  \n",
       "6             dance  Moscow  13:00:07  Wednesday  \n",
       "7             dance  Moscow  20:47:49  Wednesday  \n",
       "8            ruspop  Moscow  09:17:40     Friday  \n",
       "...             ...     ...       ...        ...  \n",
       "61247  extrememetal  Moscow  21:07:12     Monday  \n",
       "61248           rnb  Moscow  13:32:28  Wednesday  \n",
       "61250    industrial  Moscow  20:09:26     Friday  \n",
       "61251          rock  Moscow  21:43:59     Friday  \n",
       "61252       country  Moscow  21:59:46     Friday  \n",
       "\n",
       "[42741 rows x 7 columns]"
      ]
     },
     "execution_count": 28,
     "metadata": {},
     "output_type": "execute_result"
    }
   ],
   "source": [
    "moscow_general = df[df['city'] == 'Moscow']\n",
    "moscow_general\n",
    "\n",
    "# получение таблицы moscow_general из тех строк таблицы df, \n",
    "# для которых значение в столбце 'city' равно 'Moscow'\n"
   ]
  },
  {
   "cell_type": "code",
   "execution_count": 29,
   "metadata": {
    "deletable": false,
    "id": "ORaVRKto_Zcu"
   },
   "outputs": [],
   "source": [
    "spb_general = df[df['city'] == 'Saint-Petersburg']\n",
    "\n",
    "# получение таблицы spb_general из тех строк таблицы df,\n",
    "# для которых значение в столбце 'city' равно 'Saint-Petersburg'\n"
   ]
  },
  {
   "cell_type": "markdown",
   "metadata": {
    "deletable": false,
    "editable": false,
    "id": "MEJV-CX2_Zcu",
    "tags": [
     "start_task"
    ]
   },
   "source": [
    "**Задание 24**\n",
    "\n",
    "Создайте функцию `genre_weekday()` с четырьмя параметрами:\n",
    "* таблица (датафрейм) с данными,\n",
    "* день недели,\n",
    "* начальная временная метка в формате 'hh:mm', \n",
    "* последняя временная метка в формате 'hh:mm'.\n",
    "\n",
    "Функция должна вернуть информацию о топ-10 жанров тех треков, которые прослушивали в указанный день, в промежутке между двумя отметками времени."
   ]
  },
  {
   "cell_type": "code",
   "execution_count": 41,
   "metadata": {
    "deletable": false,
    "id": "laJT9BYl_Zcu"
   },
   "outputs": [
    {
     "data": {
      "text/plain": [
       "genre\n",
       "pop            781\n",
       "dance          549\n",
       "electronic     480\n",
       "rock           474\n",
       "hiphop         286\n",
       "ruspop         186\n",
       "world          181\n",
       "rusrap         175\n",
       "alternative    164\n",
       "unknown        161\n",
       "Name: genre, dtype: int64"
      ]
     },
     "execution_count": 41,
     "metadata": {},
     "output_type": "execute_result"
    }
   ],
   "source": [
    "\n",
    "\n",
    "def genre_weekday(df, day, time1, time2):\n",
    "    # последовательная фильтрация\n",
    "    # оставляем в genre_df только те строки df, у которых день равен day\n",
    "    genre_df = df[df['day']==day] # ваш код здесь\n",
    "    # оставляем в genre_df только те строки genre_df, у которых время меньше time2\n",
    "    genre_df = genre_df[genre_df['time']<time2] # ваш код здесь\n",
    "    # оставляем в genre_df только те строки genre_df, у которых время больше time1\n",
    "    genre_df = genre_df[genre_df['time']>time1]# ваш код здесь\n",
    "    # сгруппируем отфильтрованный датафрейм по столбцу с названиями жанров, возьмём столбец genre и посчитаем кол-во строк для каждого жанра методом count()\n",
    "    genre_df_grouped =genre_df.groupby('genre')['genre'].count() # ваш код здесь\n",
    "    # отсортируем результат по убыванию (чтобы в начале Series оказались самые популярные жанры)\n",
    "    genre_df_sorted = genre_df_grouped.sort_values(ascending=False)# ваш код здесь\n",
    "    # вернём Series с 10 самыми популярными жанрами в указанный отрезок времени заданного дня\n",
    "    return genre_df_sorted[:10]\n",
    "genre_weekday(moscow_general,'Monday','07:00','11:00')    \n",
    "    \n",
    "    \n",
    "# Объявление функции genre_weekday() с параметрами table, day, time1, time2,\n",
    "# которая возвращает информацию о самых популярных жанрах в указанный день в\n",
    "# заданное время:\n",
    "# 1) в переменную genre_df сохраняются те строки переданного датафрейма table, для\n",
    "#    которых одновременно:\n",
    "#    - значение в столбце day равно значению аргумента day\n",
    "#    - значение в столбце time больше значения аргумента time1\n",
    "#    - значение в столбце time меньше значения аргумента time2\n",
    "#    Используйте последовательную фильтрацию с помощью логической индексации.\n",
    "\n",
    "# 2) сгруппировать датафрейм genre_df по столбцу genre, взять один из его\n",
    "#    столбцов и посчитать методом count() количество записей для каждого из\n",
    "#    присутствующих жанров, получившийся Series записать в переменную\n",
    "#    genre_df_count\n",
    "# 3) отсортировать genre_df_count по убыванию встречаемости и сохранить\n",
    "#    в переменную genre_df_sorted\n",
    "# 4) вернуть Series из 10 первых значений genre_df_sorted, это будут топ-10\n",
    "#    популярных жанров (в указанный день, в заданное время)\n",
    "\n"
   ]
  },
  {
   "cell_type": "markdown",
   "metadata": {
    "deletable": false,
    "editable": false,
    "id": "la2s2_PF_Zcu",
    "tags": [
     "start_task"
    ]
   },
   "source": [
    "**Задание 25**\n",
    "\n",
    "\n",
    "Cравните результаты функции `genre_weekday()` для Москвы и Санкт-Петербурга в понедельник утром (с 7:00 до 11:00) и в пятницу вечером (с 17:00 до 23:00):"
   ]
  },
  {
   "cell_type": "code",
   "execution_count": 42,
   "metadata": {
    "deletable": false,
    "id": "yz7itPUQ_Zcu"
   },
   "outputs": [
    {
     "data": {
      "text/plain": [
       "genre\n",
       "pop            781\n",
       "dance          549\n",
       "electronic     480\n",
       "rock           474\n",
       "hiphop         286\n",
       "ruspop         186\n",
       "world          181\n",
       "rusrap         175\n",
       "alternative    164\n",
       "unknown        161\n",
       "Name: genre, dtype: int64"
      ]
     },
     "execution_count": 42,
     "metadata": {},
     "output_type": "execute_result"
    }
   ],
   "source": [
    "genre_weekday(moscow_general,'Monday','07:00','11:00')\n",
    "\n",
    "# вызов функции для утра понедельника в Москве (вместо df — таблица moscow_general)\n",
    "# объекты, хранящие время, являются строками и сравниваются как строки\n",
    "# пример вызова: genre_weekday(moscow_general, 'Monday', '07:00', '11:00')"
   ]
  },
  {
   "cell_type": "code",
   "execution_count": 45,
   "metadata": {
    "deletable": false,
    "id": "kwUcHPdy_Zcu"
   },
   "outputs": [
    {
     "data": {
      "text/plain": [
       "genre\n",
       "pop            218\n",
       "dance          182\n",
       "rock           162\n",
       "electronic     147\n",
       "hiphop          80\n",
       "ruspop          64\n",
       "alternative     58\n",
       "rusrap          55\n",
       "jazz            44\n",
       "classical       40\n",
       "Name: genre, dtype: int64"
      ]
     },
     "execution_count": 45,
     "metadata": {},
     "output_type": "execute_result"
    }
   ],
   "source": [
    "genre_weekday(spb_general,'Monday','07:00','11:00')\n",
    "# вызов функции для утра понедельника в Петербурге (вместо df — таблица spb_general)"
   ]
  },
  {
   "cell_type": "code",
   "execution_count": 44,
   "metadata": {
    "deletable": false,
    "id": "EzXVRE1o_Zcu"
   },
   "outputs": [
    {
     "data": {
      "text/plain": [
       "genre\n",
       "pop            713\n",
       "rock           517\n",
       "dance          495\n",
       "electronic     482\n",
       "hiphop         273\n",
       "world          208\n",
       "ruspop         170\n",
       "alternative    163\n",
       "classical      163\n",
       "rusrap         142\n",
       "Name: genre, dtype: int64"
      ]
     },
     "execution_count": 44,
     "metadata": {},
     "output_type": "execute_result"
    }
   ],
   "source": [
    "genre_weekday(moscow_general,'Friday','17:00','23:00')\n",
    "# вызов функции для вечера пятницы в Москве"
   ]
  },
  {
   "cell_type": "code",
   "execution_count": 46,
   "metadata": {
    "deletable": false,
    "id": "JZaEKu5v_Zcu"
   },
   "outputs": [
    {
     "data": {
      "text/plain": [
       "genre\n",
       "pop            256\n",
       "electronic     216\n",
       "rock           216\n",
       "dance          210\n",
       "hiphop          97\n",
       "alternative     63\n",
       "jazz            61\n",
       "classical       60\n",
       "rusrap          59\n",
       "world           54\n",
       "Name: genre, dtype: int64"
      ]
     },
     "execution_count": 46,
     "metadata": {},
     "output_type": "execute_result"
    }
   ],
   "source": [
    "genre_weekday(spb_general,'Friday','17:00','23:00')\n",
    "# вызов функции для вечера пятницы в Петербурге"
   ]
  },
  {
   "cell_type": "markdown",
   "metadata": {
    "deletable": false,
    "editable": false,
    "id": "wrCe4MNX_Zcu"
   },
   "source": [
    "**Выводы**\n",
    "\n",
    "Если сравнить топ-10 жанров в понедельник утром, можно сделать такие выводы:\n",
    "\n",
    "1. В Москве и Петербурге слушают похожую музыку. Единственное отличие — в московский рейтинг вошёл жанр “world”, а в петербургский — джаз и классика.\n",
    "\n",
    "2. В Москве пропущенных значений оказалось так много, что значение `'unknown'` заняло десятое место среди самых популярных жанров. Значит, пропущенные значения занимают существенную долю в данных и угрожают достоверности исследования.\n",
    "\n",
    "Вечер пятницы не меняет эту картину. Некоторые жанры поднимаются немного выше, другие спускаются, но в целом топ-10 остаётся тем же самым.\n",
    "\n",
    "Таким образом, вторая гипотеза подтвердилась лишь частично:\n",
    "* Пользователи слушают похожую музыку в начале недели и в конце.\n",
    "* Разница между Москвой и Петербургом не слишком выражена. В Москве чаще слушают русскую популярную музыку, в Петербурге — джаз.\n",
    "\n",
    "Однако пропуски в данных ставят под сомнение этот результат. В Москве их так много, что рейтинг топ-10 мог бы выглядеть иначе, если бы не утерянные  данные о жанрах."
   ]
  },
  {
   "cell_type": "markdown",
   "metadata": {
    "deletable": false,
    "editable": false,
    "id": "JolODAqr_Zcu"
   },
   "source": [
    "### Жанровые предпочтения в Москве и Петербурге\n",
    "\n",
    "Гипотеза: Петербург — столица рэпа, музыку этого жанра там слушают чаще, чем в Москве.  А Москва — город контрастов, в котором, тем не менее, преобладает поп-музыка."
   ]
  },
  {
   "cell_type": "markdown",
   "metadata": {
    "deletable": false,
    "editable": false,
    "id": "DlegSvaT_Zcu",
    "tags": [
     "start_task"
    ]
   },
   "source": [
    "**Задание 26**\n",
    "\n",
    "Сгруппируйте таблицу `moscow_general` по жанру и посчитайте прослушивания треков каждого жанра методом `count()`. Затем отсортируйте результат в порядке убывания и сохраните его в таблице `moscow_genres`."
   ]
  },
  {
   "cell_type": "code",
   "execution_count": 47,
   "metadata": {
    "deletable": false,
    "id": "r19lIPke_Zcu"
   },
   "outputs": [],
   "source": [
    "moscow_count=moscow_general.groupby('genre')['genre'].count()\n",
    "moscow_genres=moscow_count.sort_values(ascending=False)\n",
    "# одной строкой: группировка таблицы moscow_general по столбцу 'genre', \n",
    "# подсчёт числа значений 'genre' в этой группировке методом count(), \n",
    "# сортировка получившегося Series в порядке убывания и сохранение в moscow_genres"
   ]
  },
  {
   "cell_type": "markdown",
   "metadata": {
    "deletable": false,
    "editable": false,
    "id": "6kMuomxTiIr8",
    "tags": [
     "start_task"
    ]
   },
   "source": [
    "**Задание 27**\n",
    "\n",
    "Выведите на экран первые десять строк `moscow_genres`:"
   ]
  },
  {
   "cell_type": "code",
   "execution_count": 48,
   "metadata": {
    "deletable": false,
    "id": "WhCSooF8_Zcv"
   },
   "outputs": [
    {
     "name": "stdout",
     "output_type": "stream",
     "text": [
      "genre\n",
      "pop            5892\n",
      "dance          4435\n",
      "rock           3965\n",
      "electronic     3786\n",
      "hiphop         2096\n",
      "classical      1616\n",
      "world          1432\n",
      "alternative    1379\n",
      "ruspop         1372\n",
      "rusrap         1161\n",
      "Name: genre, dtype: int64\n"
     ]
    }
   ],
   "source": [
    "print(moscow_genres.head(10)) # просмотр первых 10 строк moscow_genres"
   ]
  },
  {
   "cell_type": "markdown",
   "metadata": {
    "deletable": false,
    "editable": false,
    "id": "cnPG2vnN_Zcv",
    "tags": [
     "start_task"
    ]
   },
   "source": [
    "**Задание 28**\n",
    "\n",
    "\n",
    "Теперь повторите то же и для Петербурга.\n",
    "\n",
    "Сгруппируйте таблицу `spb_general` по жанру. Посчитайте прослушивания треков каждого жанра. Результат отсортируйте в порядке убывания и сохраните в таблице `spb_genres`:\n"
   ]
  },
  {
   "cell_type": "code",
   "execution_count": 49,
   "metadata": {
    "deletable": false,
    "id": "gluLIpE7_Zcv"
   },
   "outputs": [],
   "source": [
    "spb_count=spb_general.groupby('genre')['genre'].count()\n",
    "spb_genres=spb_count.sort_values(ascending=False)\n",
    "# одной строкой: группировка таблицы spb_general по столбцу 'genre', \n",
    "# подсчёт числа значений 'genre' в этой группировке методом count(), \n",
    "# сортировка получившегося Series в порядке убывания и сохранение в spb_genres"
   ]
  },
  {
   "cell_type": "markdown",
   "metadata": {
    "deletable": false,
    "editable": false,
    "id": "5Doha_ODgyQ8",
    "tags": [
     "start_task"
    ]
   },
   "source": [
    "**Задание 29**\n",
    "\n",
    "Выведите на экран первые десять строк `spb_genres`:"
   ]
  },
  {
   "cell_type": "code",
   "execution_count": 50,
   "metadata": {
    "deletable": false,
    "id": "uaGJHjVU_Zcv"
   },
   "outputs": [
    {
     "name": "stdout",
     "output_type": "stream",
     "text": [
      "genre\n",
      "pop            2431\n",
      "dance          1932\n",
      "rock           1879\n",
      "electronic     1736\n",
      "hiphop          960\n",
      "alternative     649\n",
      "classical       646\n",
      "rusrap          564\n",
      "ruspop          538\n",
      "world           515\n",
      "Name: genre, dtype: int64\n"
     ]
    }
   ],
   "source": [
    "print(spb_genres.head(10))\n",
    "# просмотр первых 10 строк spb_genres"
   ]
  },
  {
   "cell_type": "markdown",
   "metadata": {
    "deletable": false,
    "editable": false,
    "id": "RY51YJYu_Zcv"
   },
   "source": [
    "**Выводы**"
   ]
  },
  {
   "cell_type": "markdown",
   "metadata": {
    "deletable": false,
    "editable": false,
    "id": "nVhnJEm__Zcv"
   },
   "source": [
    "Гипотеза частично подтвердилась:\n",
    "* Поп-музыка — самый популярный жанр в Москве, как и предполагала гипотеза. Более того, в топ-10 жанров встречается близкий жанр — русская популярная музыка.\n",
    "* Вопреки ожиданиям, рэп одинаково популярен в Москве и Петербурге. \n"
   ]
  },
  {
   "cell_type": "markdown",
   "metadata": {
    "deletable": false,
    "editable": false,
    "id": "ykKQ0N65_Zcv"
   },
   "source": [
    "## Итоги исследования"
   ]
  },
  {
   "cell_type": "markdown",
   "metadata": {
    "deletable": false,
    "editable": false,
    "id": "tjUwbHb3_Zcv"
   },
   "source": [
    "Вы проверили три гипотезы и установили:\n",
    "\n",
    "1. День недели по-разному влияет на активность пользователей в Москве и Петербурге. \n",
    "\n",
    "Первая гипотеза полностью подтвердилась.\n",
    "\n",
    "2. Музыкальные предпочтения не сильно меняются в течение недели — будь то Москва или Петербург. Небольшие различия заметны в начале недели, по понедельникам:\n",
    "* в Москве слушают музыку жанра “world”,\n",
    "* в Петербурге — джаз и классику.\n",
    "\n",
    "Таким образом, вторая гипотеза подтвердилась лишь отчасти. Этот результат мог оказаться иным, если бы не пропуски в данных.\n",
    "\n",
    "3. Во вкусах пользователей Москвы и Петербурга больше общего чем различий. Вопреки ожиданиям, предпочтения жанров в Петербурге напоминают московские.\n",
    "\n",
    "Третья гипотеза не подтвердилась. Если различия в предпочтениях и существуют, на основной массе пользователей они незаметны.\n",
    "\n",
    "**На практике исследования содержат проверки статистических гипотез.**\n",
    "Из данных одного сервиса не всегда можно сделать вывод о всех жителях города.\n",
    "Проверки статистических гипотез покажут, насколько они достоверны, исходя из имеющихся данных. \n",
    "С методами проверок гипотез вы ещё познакомитесь в следующих темах."
   ]
  }
 ],
 "metadata": {
  "ExecuteTimeLog": [
   {
    "duration": 58,
    "start_time": "2022-10-25T07:08:07.083Z"
   },
   {
    "duration": 7,
    "start_time": "2022-10-25T07:08:22.749Z"
   },
   {
    "duration": 7,
    "start_time": "2022-10-25T07:09:24.463Z"
   },
   {
    "duration": 7,
    "start_time": "2022-10-25T07:11:35.065Z"
   },
   {
    "duration": 403,
    "start_time": "2022-10-25T07:12:30.694Z"
   },
   {
    "duration": 467,
    "start_time": "2022-10-25T07:12:35.533Z"
   },
   {
    "duration": 10,
    "start_time": "2022-10-25T07:12:38.594Z"
   },
   {
    "duration": 29,
    "start_time": "2022-10-25T07:12:48.196Z"
   },
   {
    "duration": 27,
    "start_time": "2022-10-25T07:17:51.529Z"
   },
   {
    "duration": 7,
    "start_time": "2022-10-25T07:18:03.616Z"
   },
   {
    "duration": 1135,
    "start_time": "2022-10-25T07:18:24.425Z"
   },
   {
    "duration": 97,
    "start_time": "2022-10-25T07:18:55.245Z"
   },
   {
    "duration": 10,
    "start_time": "2022-10-25T07:19:06.517Z"
   },
   {
    "duration": 4,
    "start_time": "2022-10-25T07:20:06.734Z"
   },
   {
    "duration": 4,
    "start_time": "2022-10-25T07:23:30.200Z"
   },
   {
    "duration": 7,
    "start_time": "2022-10-25T07:24:40.231Z"
   },
   {
    "duration": 89,
    "start_time": "2022-10-25T07:24:51.048Z"
   },
   {
    "duration": 77,
    "start_time": "2022-10-25T07:25:03.752Z"
   },
   {
    "duration": 11,
    "start_time": "2022-10-25T07:25:27.832Z"
   },
   {
    "duration": 3,
    "start_time": "2022-10-25T07:25:31.402Z"
   },
   {
    "duration": 27,
    "start_time": "2022-10-25T07:29:21.558Z"
   },
   {
    "duration": 8,
    "start_time": "2022-10-25T07:36:57.399Z"
   },
   {
    "duration": 9,
    "start_time": "2022-10-25T07:38:15.768Z"
   },
   {
    "duration": 8,
    "start_time": "2022-10-25T07:39:14.349Z"
   },
   {
    "duration": 7,
    "start_time": "2022-10-25T07:40:26.080Z"
   },
   {
    "duration": 3,
    "start_time": "2022-10-25T07:41:06.977Z"
   },
   {
    "duration": 26,
    "start_time": "2022-10-25T07:41:48.997Z"
   },
   {
    "duration": 3,
    "start_time": "2022-10-25T07:43:15.240Z"
   },
   {
    "duration": 4,
    "start_time": "2022-10-25T07:43:30.253Z"
   },
   {
    "duration": 23,
    "start_time": "2022-10-25T07:43:32.179Z"
   },
   {
    "duration": 43,
    "start_time": "2022-10-25T07:45:43.281Z"
   },
   {
    "duration": 24,
    "start_time": "2022-10-25T07:45:45.552Z"
   },
   {
    "duration": 60,
    "start_time": "2022-10-25T07:47:21.412Z"
   },
   {
    "duration": 6,
    "start_time": "2022-10-25T07:49:14.151Z"
   },
   {
    "duration": 73,
    "start_time": "2022-10-25T07:49:35.057Z"
   },
   {
    "duration": 80,
    "start_time": "2022-10-25T07:50:23.579Z"
   },
   {
    "duration": 76,
    "start_time": "2022-10-25T07:50:45.224Z"
   },
   {
    "duration": 55,
    "start_time": "2022-10-25T07:51:23.144Z"
   },
   {
    "duration": 58,
    "start_time": "2022-10-25T07:51:42.865Z"
   },
   {
    "duration": 59,
    "start_time": "2022-10-25T07:51:59.850Z"
   },
   {
    "duration": 63,
    "start_time": "2022-10-25T07:54:00.309Z"
   },
   {
    "duration": 7,
    "start_time": "2022-10-25T07:54:09.131Z"
   },
   {
    "duration": 7,
    "start_time": "2022-10-25T07:54:39.920Z"
   },
   {
    "duration": 7,
    "start_time": "2022-10-25T07:55:24.925Z"
   },
   {
    "duration": 8,
    "start_time": "2022-10-25T07:55:33.180Z"
   },
   {
    "duration": 6,
    "start_time": "2022-10-25T07:56:03.185Z"
   },
   {
    "duration": 7,
    "start_time": "2022-10-25T07:57:11.614Z"
   },
   {
    "duration": 7,
    "start_time": "2022-10-25T07:57:20.682Z"
   },
   {
    "duration": 7,
    "start_time": "2022-10-25T07:57:30.797Z"
   },
   {
    "duration": 7,
    "start_time": "2022-10-25T07:57:45.700Z"
   },
   {
    "duration": 7,
    "start_time": "2022-10-25T07:58:05.784Z"
   },
   {
    "duration": 6,
    "start_time": "2022-10-25T07:58:19.850Z"
   },
   {
    "duration": 8,
    "start_time": "2022-10-25T07:58:40.901Z"
   },
   {
    "duration": 7,
    "start_time": "2022-10-25T07:58:56.905Z"
   },
   {
    "duration": 7,
    "start_time": "2022-10-25T07:58:59.415Z"
   },
   {
    "duration": 7,
    "start_time": "2022-10-25T08:02:35.009Z"
   },
   {
    "duration": 8,
    "start_time": "2022-10-25T08:03:14.907Z"
   },
   {
    "duration": 8,
    "start_time": "2022-10-25T08:03:23.171Z"
   },
   {
    "duration": 3,
    "start_time": "2022-10-25T08:03:38.595Z"
   },
   {
    "duration": 163,
    "start_time": "2022-10-25T08:03:40.510Z"
   },
   {
    "duration": 7,
    "start_time": "2022-10-25T08:03:42.090Z"
   },
   {
    "duration": 27,
    "start_time": "2022-10-25T08:03:44.315Z"
   },
   {
    "duration": 69,
    "start_time": "2022-10-25T08:03:49.012Z"
   },
   {
    "duration": 72,
    "start_time": "2022-10-25T08:04:01.419Z"
   },
   {
    "duration": 73,
    "start_time": "2022-10-25T08:04:07.893Z"
   },
   {
    "duration": 3,
    "start_time": "2022-10-25T08:04:25.528Z"
   },
   {
    "duration": 3,
    "start_time": "2022-10-25T08:04:30.953Z"
   },
   {
    "duration": 9,
    "start_time": "2022-10-25T08:04:33.731Z"
   },
   {
    "duration": 3,
    "start_time": "2022-10-25T08:04:36.922Z"
   },
   {
    "duration": 22,
    "start_time": "2022-10-25T08:04:39.024Z"
   },
   {
    "duration": 40,
    "start_time": "2022-10-25T08:04:42.656Z"
   },
   {
    "duration": 21,
    "start_time": "2022-10-25T08:04:44.912Z"
   },
   {
    "duration": 63,
    "start_time": "2022-10-25T08:04:50.381Z"
   },
   {
    "duration": 75,
    "start_time": "2022-10-25T08:04:53.526Z"
   },
   {
    "duration": 66,
    "start_time": "2022-10-25T08:05:00.183Z"
   },
   {
    "duration": 60,
    "start_time": "2022-10-25T08:05:23.634Z"
   },
   {
    "duration": 69,
    "start_time": "2022-10-25T08:05:43.055Z"
   },
   {
    "duration": 56,
    "start_time": "2022-10-25T08:05:46.336Z"
   },
   {
    "duration": 8,
    "start_time": "2022-10-25T08:11:33.062Z"
   },
   {
    "duration": 78,
    "start_time": "2022-10-25T08:13:19.106Z"
   },
   {
    "duration": 11,
    "start_time": "2022-10-25T08:13:40.137Z"
   },
   {
    "duration": 14,
    "start_time": "2022-10-25T08:17:09.334Z"
   },
   {
    "duration": 13,
    "start_time": "2022-10-25T08:17:32.323Z"
   },
   {
    "duration": 67,
    "start_time": "2022-10-25T08:21:17.806Z"
   },
   {
    "duration": 10,
    "start_time": "2022-10-25T08:23:45.785Z"
   },
   {
    "duration": 77,
    "start_time": "2022-10-25T08:27:00.975Z"
   },
   {
    "duration": 80,
    "start_time": "2022-10-25T08:28:06.052Z"
   },
   {
    "duration": 74,
    "start_time": "2022-10-25T08:28:41.581Z"
   },
   {
    "duration": 71,
    "start_time": "2022-10-25T08:28:58.073Z"
   },
   {
    "duration": 78,
    "start_time": "2022-10-25T08:30:01.687Z"
   },
   {
    "duration": 68,
    "start_time": "2022-10-25T08:30:19.589Z"
   },
   {
    "duration": 93,
    "start_time": "2022-10-25T08:30:35.780Z"
   },
   {
    "duration": 71,
    "start_time": "2022-10-25T08:30:57.184Z"
   },
   {
    "duration": 22,
    "start_time": "2022-10-25T08:31:07.055Z"
   },
   {
    "duration": 1141,
    "start_time": "2022-10-25T08:31:21.181Z"
   },
   {
    "duration": 9,
    "start_time": "2022-10-25T08:32:12.424Z"
   },
   {
    "duration": 71,
    "start_time": "2022-10-25T08:32:18.878Z"
   },
   {
    "duration": 1173,
    "start_time": "2022-10-25T08:32:22.880Z"
   },
   {
    "duration": 1111,
    "start_time": "2022-10-25T08:32:47.971Z"
   },
   {
    "duration": 1165,
    "start_time": "2022-10-25T08:35:07.406Z"
   },
   {
    "duration": 1162,
    "start_time": "2022-10-25T08:36:30.653Z"
   },
   {
    "duration": 697,
    "start_time": "2022-10-25T08:36:50.916Z"
   },
   {
    "duration": 642,
    "start_time": "2022-10-25T08:37:19.205Z"
   },
   {
    "duration": 1821,
    "start_time": "2022-10-25T08:40:08.635Z"
   },
   {
    "duration": 1465,
    "start_time": "2022-10-25T08:40:12.699Z"
   },
   {
    "duration": 4,
    "start_time": "2022-10-25T08:40:36.773Z"
   },
   {
    "duration": 973,
    "start_time": "2022-10-25T08:40:45.016Z"
   },
   {
    "duration": 817,
    "start_time": "2022-10-25T08:40:52.682Z"
   },
   {
    "duration": 656,
    "start_time": "2022-10-25T08:42:05.542Z"
   },
   {
    "duration": 605,
    "start_time": "2022-10-25T08:44:35.864Z"
   },
   {
    "duration": 570,
    "start_time": "2022-10-25T08:45:48.678Z"
   },
   {
    "duration": 617,
    "start_time": "2022-10-25T08:45:53.881Z"
   },
   {
    "duration": 583,
    "start_time": "2022-10-25T08:46:14.175Z"
   },
   {
    "duration": 596,
    "start_time": "2022-10-25T08:47:42.419Z"
   },
   {
    "duration": 628,
    "start_time": "2022-10-25T08:48:20.690Z"
   },
   {
    "duration": 590,
    "start_time": "2022-10-25T08:49:04.933Z"
   },
   {
    "duration": 11,
    "start_time": "2022-10-25T08:49:33.691Z"
   },
   {
    "duration": 2,
    "start_time": "2022-10-25T08:49:49.097Z"
   },
   {
    "duration": 8,
    "start_time": "2022-10-25T08:49:52.503Z"
   },
   {
    "duration": 7,
    "start_time": "2022-10-25T08:51:03.462Z"
   },
   {
    "duration": 11,
    "start_time": "2022-10-25T08:56:14.086Z"
   },
   {
    "duration": 15,
    "start_time": "2022-10-25T08:56:39.627Z"
   },
   {
    "duration": 6,
    "start_time": "2022-10-25T08:56:58.956Z"
   },
   {
    "duration": 11,
    "start_time": "2022-10-25T08:57:03.490Z"
   },
   {
    "duration": 1128,
    "start_time": "2022-10-25T08:57:41.171Z"
   },
   {
    "duration": 1142,
    "start_time": "2022-10-25T08:57:58.114Z"
   },
   {
    "duration": 8,
    "start_time": "2022-10-25T08:58:01.674Z"
   },
   {
    "duration": 11,
    "start_time": "2022-10-25T08:58:17.369Z"
   },
   {
    "duration": 14,
    "start_time": "2022-10-25T08:58:30.679Z"
   },
   {
    "duration": 416,
    "start_time": "2022-10-25T09:01:20.475Z"
   },
   {
    "duration": 164,
    "start_time": "2022-10-25T09:01:20.893Z"
   },
   {
    "duration": 8,
    "start_time": "2022-10-25T09:01:21.059Z"
   },
   {
    "duration": 38,
    "start_time": "2022-10-25T09:01:21.069Z"
   },
   {
    "duration": 2,
    "start_time": "2022-10-25T09:01:21.109Z"
   },
   {
    "duration": 7,
    "start_time": "2022-10-25T09:01:21.112Z"
   },
   {
    "duration": 19,
    "start_time": "2022-10-25T09:01:21.121Z"
   },
   {
    "duration": 7,
    "start_time": "2022-10-25T09:01:21.142Z"
   },
   {
    "duration": 47,
    "start_time": "2022-10-25T09:01:21.151Z"
   },
   {
    "duration": 42,
    "start_time": "2022-10-25T09:01:21.201Z"
   },
   {
    "duration": 22,
    "start_time": "2022-10-25T09:01:21.245Z"
   },
   {
    "duration": 89,
    "start_time": "2022-10-25T09:01:21.269Z"
   },
   {
    "duration": 88,
    "start_time": "2022-10-25T09:01:21.359Z"
   },
   {
    "duration": 63,
    "start_time": "2022-10-25T09:01:21.449Z"
   },
   {
    "duration": 2,
    "start_time": "2022-10-25T09:01:21.514Z"
   },
   {
    "duration": 29,
    "start_time": "2022-10-25T09:01:21.517Z"
   },
   {
    "duration": 678,
    "start_time": "2022-10-25T09:01:21.548Z"
   },
   {
    "duration": 0,
    "start_time": "2022-10-25T09:01:22.228Z"
   },
   {
    "duration": 0,
    "start_time": "2022-10-25T09:01:22.229Z"
   },
   {
    "duration": 0,
    "start_time": "2022-10-25T09:01:22.230Z"
   },
   {
    "duration": 0,
    "start_time": "2022-10-25T09:01:22.231Z"
   },
   {
    "duration": 0,
    "start_time": "2022-10-25T09:01:22.232Z"
   },
   {
    "duration": 0,
    "start_time": "2022-10-25T09:01:22.233Z"
   },
   {
    "duration": 0,
    "start_time": "2022-10-25T09:01:22.234Z"
   },
   {
    "duration": 0,
    "start_time": "2022-10-25T09:01:22.235Z"
   },
   {
    "duration": 0,
    "start_time": "2022-10-25T09:01:22.236Z"
   },
   {
    "duration": 0,
    "start_time": "2022-10-25T09:01:22.237Z"
   },
   {
    "duration": 0,
    "start_time": "2022-10-25T09:01:22.238Z"
   },
   {
    "duration": 0,
    "start_time": "2022-10-25T09:01:22.239Z"
   },
   {
    "duration": 0,
    "start_time": "2022-10-25T09:01:22.240Z"
   },
   {
    "duration": 0,
    "start_time": "2022-10-25T09:01:22.241Z"
   },
   {
    "duration": 0,
    "start_time": "2022-10-25T09:01:22.242Z"
   },
   {
    "duration": 0,
    "start_time": "2022-10-25T09:01:22.243Z"
   },
   {
    "duration": 0,
    "start_time": "2022-10-25T09:01:22.244Z"
   },
   {
    "duration": 0,
    "start_time": "2022-10-25T09:01:22.245Z"
   },
   {
    "duration": 1,
    "start_time": "2022-10-25T09:01:22.246Z"
   },
   {
    "duration": 0,
    "start_time": "2022-10-25T09:01:22.248Z"
   },
   {
    "duration": 0,
    "start_time": "2022-10-25T09:01:22.249Z"
   },
   {
    "duration": 8,
    "start_time": "2022-10-25T09:03:47.531Z"
   },
   {
    "duration": 587,
    "start_time": "2022-10-25T09:06:09.961Z"
   },
   {
    "duration": 74,
    "start_time": "2022-10-25T09:08:09.547Z"
   },
   {
    "duration": 8,
    "start_time": "2022-10-25T09:08:24.180Z"
   },
   {
    "duration": 609,
    "start_time": "2022-10-25T09:08:52.933Z"
   },
   {
    "duration": 652,
    "start_time": "2022-10-25T09:10:34.479Z"
   },
   {
    "duration": 830,
    "start_time": "2022-10-25T09:11:06.968Z"
   },
   {
    "duration": 7,
    "start_time": "2022-10-25T09:14:13.415Z"
   },
   {
    "duration": 10,
    "start_time": "2022-10-25T09:14:25.005Z"
   },
   {
    "duration": 70,
    "start_time": "2022-10-25T09:16:59.758Z"
   },
   {
    "duration": 0,
    "start_time": "2022-10-25T09:18:26.469Z"
   },
   {
    "duration": 8,
    "start_time": "2022-10-25T09:19:22.660Z"
   },
   {
    "duration": 8,
    "start_time": "2022-10-25T09:21:41.908Z"
   },
   {
    "duration": 0,
    "start_time": "2022-10-25T09:23:31.348Z"
   },
   {
    "duration": 8,
    "start_time": "2022-10-25T09:25:01.794Z"
   },
   {
    "duration": 84221,
    "start_time": "2022-10-25T09:32:40.807Z"
   },
   {
    "duration": 0,
    "start_time": "2022-10-25T09:37:32.292Z"
   },
   {
    "duration": 0,
    "start_time": "2022-10-25T10:16:29.021Z"
   },
   {
    "duration": 1217,
    "start_time": "2022-10-25T10:19:19.564Z"
   },
   {
    "duration": 1234,
    "start_time": "2022-10-25T10:20:11.436Z"
   },
   {
    "duration": 1315,
    "start_time": "2022-10-25T10:21:03.546Z"
   },
   {
    "duration": 68,
    "start_time": "2022-10-25T10:22:26.352Z"
   },
   {
    "duration": 75,
    "start_time": "2022-10-25T10:22:30.208Z"
   },
   {
    "duration": 76,
    "start_time": "2022-10-25T10:25:40.308Z"
   },
   {
    "duration": 66,
    "start_time": "2022-10-25T10:26:04.718Z"
   },
   {
    "duration": 1232,
    "start_time": "2022-10-25T10:26:50.680Z"
   },
   {
    "duration": 1188,
    "start_time": "2022-10-25T10:30:21.206Z"
   },
   {
    "duration": 72,
    "start_time": "2022-10-25T10:37:18.737Z"
   },
   {
    "duration": 1272,
    "start_time": "2022-10-25T10:37:29.129Z"
   },
   {
    "duration": 1328,
    "start_time": "2022-10-25T10:40:56.416Z"
   },
   {
    "duration": 0,
    "start_time": "2022-10-25T10:48:12.918Z"
   },
   {
    "duration": 11,
    "start_time": "2022-10-25T10:59:18.440Z"
   },
   {
    "duration": 11,
    "start_time": "2022-10-25T10:59:41.467Z"
   },
   {
    "duration": 10,
    "start_time": "2022-10-25T11:00:24.557Z"
   },
   {
    "duration": 10,
    "start_time": "2022-10-25T11:01:32.128Z"
   },
   {
    "duration": 10,
    "start_time": "2022-10-25T11:01:57.007Z"
   },
   {
    "duration": 75,
    "start_time": "2022-10-25T11:03:55.506Z"
   },
   {
    "duration": 10,
    "start_time": "2022-10-25T11:04:00.675Z"
   },
   {
    "duration": 10,
    "start_time": "2022-10-25T11:04:10.463Z"
   },
   {
    "duration": 12,
    "start_time": "2022-10-25T11:04:51.836Z"
   },
   {
    "duration": 365,
    "start_time": "2022-10-25T11:05:29.234Z"
   },
   {
    "duration": 187,
    "start_time": "2022-10-25T11:05:29.601Z"
   },
   {
    "duration": 9,
    "start_time": "2022-10-25T11:05:29.791Z"
   },
   {
    "duration": 35,
    "start_time": "2022-10-25T11:05:29.802Z"
   },
   {
    "duration": 2,
    "start_time": "2022-10-25T11:05:29.841Z"
   },
   {
    "duration": 6,
    "start_time": "2022-10-25T11:05:29.845Z"
   },
   {
    "duration": 39,
    "start_time": "2022-10-25T11:05:29.852Z"
   },
   {
    "duration": 3,
    "start_time": "2022-10-25T11:05:29.893Z"
   },
   {
    "duration": 41,
    "start_time": "2022-10-25T11:05:29.898Z"
   },
   {
    "duration": 42,
    "start_time": "2022-10-25T11:05:29.940Z"
   },
   {
    "duration": 26,
    "start_time": "2022-10-25T11:05:29.984Z"
   },
   {
    "duration": 82,
    "start_time": "2022-10-25T11:05:30.012Z"
   },
   {
    "duration": 83,
    "start_time": "2022-10-25T11:05:30.096Z"
   },
   {
    "duration": 63,
    "start_time": "2022-10-25T11:05:30.190Z"
   },
   {
    "duration": 51,
    "start_time": "2022-10-25T11:05:30.254Z"
   },
   {
    "duration": 13,
    "start_time": "2022-10-25T11:05:30.307Z"
   },
   {
    "duration": 60,
    "start_time": "2022-10-25T11:05:30.321Z"
   },
   {
    "duration": 33,
    "start_time": "2022-10-25T11:05:30.383Z"
   },
   {
    "duration": 3,
    "start_time": "2022-10-25T11:05:30.418Z"
   },
   {
    "duration": 20,
    "start_time": "2022-10-25T11:05:30.422Z"
   },
   {
    "duration": 22,
    "start_time": "2022-10-25T11:05:30.444Z"
   },
   {
    "duration": 9,
    "start_time": "2022-10-25T11:05:30.468Z"
   },
   {
    "duration": 14,
    "start_time": "2022-10-25T11:05:30.479Z"
   },
   {
    "duration": 13,
    "start_time": "2022-10-25T11:05:30.495Z"
   },
   {
    "duration": 44,
    "start_time": "2022-10-25T11:05:30.511Z"
   },
   {
    "duration": 30,
    "start_time": "2022-10-25T11:05:30.557Z"
   },
   {
    "duration": 4,
    "start_time": "2022-10-25T11:05:30.589Z"
   },
   {
    "duration": 14,
    "start_time": "2022-10-25T11:05:30.595Z"
   },
   {
    "duration": 16,
    "start_time": "2022-10-25T11:05:30.611Z"
   },
   {
    "duration": 74,
    "start_time": "2022-10-25T11:05:30.629Z"
   },
   {
    "duration": 0,
    "start_time": "2022-10-25T11:05:30.704Z"
   },
   {
    "duration": 0,
    "start_time": "2022-10-25T11:05:30.706Z"
   },
   {
    "duration": 0,
    "start_time": "2022-10-25T11:05:30.708Z"
   },
   {
    "duration": 0,
    "start_time": "2022-10-25T11:05:30.710Z"
   },
   {
    "duration": 0,
    "start_time": "2022-10-25T11:05:30.712Z"
   },
   {
    "duration": 0,
    "start_time": "2022-10-25T11:05:30.713Z"
   },
   {
    "duration": 0,
    "start_time": "2022-10-25T11:05:30.715Z"
   },
   {
    "duration": 0,
    "start_time": "2022-10-25T11:05:30.716Z"
   },
   {
    "duration": 13,
    "start_time": "2022-10-25T11:07:36.434Z"
   },
   {
    "duration": 12,
    "start_time": "2022-10-25T11:11:16.236Z"
   },
   {
    "duration": 91,
    "start_time": "2022-10-25T11:11:31.713Z"
   },
   {
    "duration": 13,
    "start_time": "2022-10-25T11:11:36.840Z"
   },
   {
    "duration": 12,
    "start_time": "2022-10-25T11:12:14.319Z"
   },
   {
    "duration": 70,
    "start_time": "2022-10-25T11:13:57.034Z"
   },
   {
    "duration": 362,
    "start_time": "2022-10-25T11:14:32.643Z"
   },
   {
    "duration": 177,
    "start_time": "2022-10-25T11:14:33.007Z"
   },
   {
    "duration": 11,
    "start_time": "2022-10-25T11:14:33.186Z"
   },
   {
    "duration": 37,
    "start_time": "2022-10-25T11:14:33.198Z"
   },
   {
    "duration": 2,
    "start_time": "2022-10-25T11:14:33.237Z"
   },
   {
    "duration": 10,
    "start_time": "2022-10-25T11:14:33.241Z"
   },
   {
    "duration": 16,
    "start_time": "2022-10-25T11:14:33.253Z"
   },
   {
    "duration": 4,
    "start_time": "2022-10-25T11:14:33.291Z"
   },
   {
    "duration": 30,
    "start_time": "2022-10-25T11:14:33.297Z"
   },
   {
    "duration": 63,
    "start_time": "2022-10-25T11:14:33.330Z"
   },
   {
    "duration": 30,
    "start_time": "2022-10-25T11:14:33.394Z"
   },
   {
    "duration": 82,
    "start_time": "2022-10-25T11:14:33.426Z"
   },
   {
    "duration": 82,
    "start_time": "2022-10-25T11:14:33.510Z"
   },
   {
    "duration": 60,
    "start_time": "2022-10-25T11:14:33.594Z"
   },
   {
    "duration": 57,
    "start_time": "2022-10-25T11:14:33.657Z"
   },
   {
    "duration": 10,
    "start_time": "2022-10-25T11:14:33.716Z"
   },
   {
    "duration": 64,
    "start_time": "2022-10-25T11:14:33.728Z"
   },
   {
    "duration": 11,
    "start_time": "2022-10-25T11:14:33.794Z"
   },
   {
    "duration": 88,
    "start_time": "2022-10-25T11:14:33.807Z"
   },
   {
    "duration": 0,
    "start_time": "2022-10-25T11:14:33.897Z"
   },
   {
    "duration": 0,
    "start_time": "2022-10-25T11:14:33.898Z"
   },
   {
    "duration": 0,
    "start_time": "2022-10-25T11:14:33.899Z"
   },
   {
    "duration": 0,
    "start_time": "2022-10-25T11:14:33.901Z"
   },
   {
    "duration": 0,
    "start_time": "2022-10-25T11:14:33.902Z"
   },
   {
    "duration": 0,
    "start_time": "2022-10-25T11:14:33.903Z"
   },
   {
    "duration": 0,
    "start_time": "2022-10-25T11:14:33.904Z"
   },
   {
    "duration": 0,
    "start_time": "2022-10-25T11:14:33.905Z"
   },
   {
    "duration": 0,
    "start_time": "2022-10-25T11:14:33.906Z"
   },
   {
    "duration": 0,
    "start_time": "2022-10-25T11:14:33.907Z"
   },
   {
    "duration": 0,
    "start_time": "2022-10-25T11:14:33.909Z"
   },
   {
    "duration": 0,
    "start_time": "2022-10-25T11:14:33.910Z"
   },
   {
    "duration": 0,
    "start_time": "2022-10-25T11:14:33.911Z"
   },
   {
    "duration": 0,
    "start_time": "2022-10-25T11:14:33.912Z"
   },
   {
    "duration": 0,
    "start_time": "2022-10-25T11:14:33.913Z"
   },
   {
    "duration": 0,
    "start_time": "2022-10-25T11:14:33.915Z"
   },
   {
    "duration": 0,
    "start_time": "2022-10-25T11:14:33.916Z"
   },
   {
    "duration": 0,
    "start_time": "2022-10-25T11:14:33.917Z"
   },
   {
    "duration": 0,
    "start_time": "2022-10-25T11:14:33.918Z"
   },
   {
    "duration": 10,
    "start_time": "2022-10-25T11:14:53.879Z"
   },
   {
    "duration": 15,
    "start_time": "2022-10-25T11:15:32.514Z"
   },
   {
    "duration": 414,
    "start_time": "2022-10-25T11:16:55.203Z"
   },
   {
    "duration": 175,
    "start_time": "2022-10-25T11:16:55.619Z"
   },
   {
    "duration": 7,
    "start_time": "2022-10-25T11:16:55.796Z"
   },
   {
    "duration": 29,
    "start_time": "2022-10-25T11:16:55.805Z"
   },
   {
    "duration": 2,
    "start_time": "2022-10-25T11:16:55.836Z"
   },
   {
    "duration": 5,
    "start_time": "2022-10-25T11:16:55.840Z"
   },
   {
    "duration": 52,
    "start_time": "2022-10-25T11:16:55.847Z"
   },
   {
    "duration": 5,
    "start_time": "2022-10-25T11:16:55.902Z"
   },
   {
    "duration": 29,
    "start_time": "2022-10-25T11:16:55.908Z"
   },
   {
    "duration": 65,
    "start_time": "2022-10-25T11:16:55.940Z"
   },
   {
    "duration": 26,
    "start_time": "2022-10-25T11:16:56.007Z"
   },
   {
    "duration": 88,
    "start_time": "2022-10-25T11:16:56.035Z"
   },
   {
    "duration": 106,
    "start_time": "2022-10-25T11:16:56.125Z"
   },
   {
    "duration": 64,
    "start_time": "2022-10-25T11:16:56.233Z"
   },
   {
    "duration": 34,
    "start_time": "2022-10-25T11:16:56.298Z"
   },
   {
    "duration": 11,
    "start_time": "2022-10-25T11:16:56.334Z"
   },
   {
    "duration": 56,
    "start_time": "2022-10-25T11:16:56.347Z"
   },
   {
    "duration": 19,
    "start_time": "2022-10-25T11:16:56.404Z"
   },
   {
    "duration": 117,
    "start_time": "2022-10-25T11:16:56.431Z"
   },
   {
    "duration": 0,
    "start_time": "2022-10-25T11:16:56.550Z"
   },
   {
    "duration": 0,
    "start_time": "2022-10-25T11:16:56.552Z"
   },
   {
    "duration": 0,
    "start_time": "2022-10-25T11:16:56.554Z"
   },
   {
    "duration": 0,
    "start_time": "2022-10-25T11:16:56.555Z"
   },
   {
    "duration": 0,
    "start_time": "2022-10-25T11:16:56.557Z"
   },
   {
    "duration": 0,
    "start_time": "2022-10-25T11:16:56.558Z"
   },
   {
    "duration": 0,
    "start_time": "2022-10-25T11:16:56.559Z"
   },
   {
    "duration": 0,
    "start_time": "2022-10-25T11:16:56.560Z"
   },
   {
    "duration": 0,
    "start_time": "2022-10-25T11:16:56.561Z"
   },
   {
    "duration": 0,
    "start_time": "2022-10-25T11:16:56.563Z"
   },
   {
    "duration": 0,
    "start_time": "2022-10-25T11:16:56.565Z"
   },
   {
    "duration": 0,
    "start_time": "2022-10-25T11:16:56.566Z"
   },
   {
    "duration": 0,
    "start_time": "2022-10-25T11:16:56.592Z"
   },
   {
    "duration": 0,
    "start_time": "2022-10-25T11:16:56.593Z"
   },
   {
    "duration": 0,
    "start_time": "2022-10-25T11:16:56.595Z"
   },
   {
    "duration": 0,
    "start_time": "2022-10-25T11:16:56.597Z"
   },
   {
    "duration": 0,
    "start_time": "2022-10-25T11:16:56.598Z"
   },
   {
    "duration": 0,
    "start_time": "2022-10-25T11:16:56.599Z"
   },
   {
    "duration": 0,
    "start_time": "2022-10-25T11:16:56.600Z"
   },
   {
    "duration": 11,
    "start_time": "2022-10-25T11:17:08.239Z"
   },
   {
    "duration": 17,
    "start_time": "2022-10-25T11:17:35.451Z"
   },
   {
    "duration": 10,
    "start_time": "2022-10-25T11:18:38.313Z"
   },
   {
    "duration": 17,
    "start_time": "2022-10-25T11:19:13.758Z"
   },
   {
    "duration": 20,
    "start_time": "2022-10-25T11:19:41.474Z"
   },
   {
    "duration": 10,
    "start_time": "2022-10-25T11:20:06.371Z"
   },
   {
    "duration": 11,
    "start_time": "2022-10-25T11:20:15.478Z"
   },
   {
    "duration": 15,
    "start_time": "2022-10-25T11:20:58.052Z"
   },
   {
    "duration": 80,
    "start_time": "2022-10-25T11:21:48.446Z"
   },
   {
    "duration": 9,
    "start_time": "2022-10-25T11:22:06.081Z"
   },
   {
    "duration": 13,
    "start_time": "2022-10-25T11:22:20.478Z"
   },
   {
    "duration": 9,
    "start_time": "2022-10-25T11:22:51.624Z"
   },
   {
    "duration": 8,
    "start_time": "2022-10-25T11:23:17.362Z"
   },
   {
    "duration": 11,
    "start_time": "2022-10-25T11:25:05.329Z"
   },
   {
    "duration": 164,
    "start_time": "2022-10-25T11:40:06.359Z"
   },
   {
    "duration": 4,
    "start_time": "2022-10-25T11:40:36.433Z"
   },
   {
    "duration": 76,
    "start_time": "2022-10-25T12:25:17.309Z"
   },
   {
    "duration": 11,
    "start_time": "2022-10-25T12:25:30.303Z"
   },
   {
    "duration": 7,
    "start_time": "2022-10-25T12:27:45.219Z"
   },
   {
    "duration": 9,
    "start_time": "2022-10-25T12:27:48.442Z"
   },
   {
    "duration": 18,
    "start_time": "2022-10-25T12:28:23.255Z"
   },
   {
    "duration": 28,
    "start_time": "2022-10-25T12:28:51.790Z"
   },
   {
    "duration": 15,
    "start_time": "2022-10-25T12:35:16.061Z"
   },
   {
    "duration": 20,
    "start_time": "2022-10-25T12:36:40.432Z"
   },
   {
    "duration": 17,
    "start_time": "2022-10-25T12:37:18.785Z"
   },
   {
    "duration": 14,
    "start_time": "2022-10-25T12:37:48.514Z"
   },
   {
    "duration": 16,
    "start_time": "2022-10-25T12:38:28.451Z"
   },
   {
    "duration": 6,
    "start_time": "2022-10-25T12:39:20.030Z"
   },
   {
    "duration": 5,
    "start_time": "2022-10-25T12:40:08.776Z"
   },
   {
    "duration": 82,
    "start_time": "2022-10-25T12:40:20.613Z"
   },
   {
    "duration": 4,
    "start_time": "2022-10-25T12:41:54.714Z"
   },
   {
    "duration": 5,
    "start_time": "2022-10-25T12:42:26.290Z"
   },
   {
    "duration": 4,
    "start_time": "2022-10-25T12:42:30.394Z"
   },
   {
    "duration": 6,
    "start_time": "2022-10-25T13:53:40.534Z"
   },
   {
    "duration": 6,
    "start_time": "2022-10-25T13:54:01.781Z"
   },
   {
    "duration": 5,
    "start_time": "2022-10-25T13:54:15.978Z"
   },
   {
    "duration": 8,
    "start_time": "2022-10-25T13:55:02.311Z"
   },
   {
    "duration": 6,
    "start_time": "2022-10-25T13:55:08.894Z"
   },
   {
    "duration": 6,
    "start_time": "2022-10-25T13:56:07.172Z"
   },
   {
    "duration": 6,
    "start_time": "2022-10-25T13:57:37.044Z"
   },
   {
    "duration": 7,
    "start_time": "2022-10-25T13:58:01.990Z"
   },
   {
    "duration": 403,
    "start_time": "2022-10-25T13:58:17.411Z"
   },
   {
    "duration": 461,
    "start_time": "2022-10-25T13:58:17.816Z"
   },
   {
    "duration": 8,
    "start_time": "2022-10-25T13:58:18.279Z"
   },
   {
    "duration": 33,
    "start_time": "2022-10-25T13:58:18.290Z"
   },
   {
    "duration": 5,
    "start_time": "2022-10-25T13:58:18.325Z"
   },
   {
    "duration": 19,
    "start_time": "2022-10-25T13:58:18.331Z"
   },
   {
    "duration": 16,
    "start_time": "2022-10-25T13:58:18.352Z"
   },
   {
    "duration": 5,
    "start_time": "2022-10-25T13:58:18.370Z"
   },
   {
    "duration": 33,
    "start_time": "2022-10-25T13:58:18.376Z"
   },
   {
    "duration": 41,
    "start_time": "2022-10-25T13:58:18.411Z"
   },
   {
    "duration": 40,
    "start_time": "2022-10-25T13:58:18.453Z"
   },
   {
    "duration": 62,
    "start_time": "2022-10-25T13:58:18.495Z"
   },
   {
    "duration": 99,
    "start_time": "2022-10-25T13:58:18.559Z"
   },
   {
    "duration": 62,
    "start_time": "2022-10-25T13:58:18.660Z"
   },
   {
    "duration": 35,
    "start_time": "2022-10-25T13:58:18.724Z"
   },
   {
    "duration": 10,
    "start_time": "2022-10-25T13:58:18.761Z"
   },
   {
    "duration": 35,
    "start_time": "2022-10-25T13:58:18.790Z"
   },
   {
    "duration": 11,
    "start_time": "2022-10-25T13:58:18.827Z"
   },
   {
    "duration": 12,
    "start_time": "2022-10-25T13:58:18.839Z"
   },
   {
    "duration": 10,
    "start_time": "2022-10-25T13:58:18.852Z"
   },
   {
    "duration": 56,
    "start_time": "2022-10-25T13:58:18.863Z"
   },
   {
    "duration": 19,
    "start_time": "2022-10-25T13:58:18.922Z"
   },
   {
    "duration": 15,
    "start_time": "2022-10-25T13:58:18.943Z"
   },
   {
    "duration": 38,
    "start_time": "2022-10-25T13:58:18.960Z"
   },
   {
    "duration": 16,
    "start_time": "2022-10-25T13:58:18.999Z"
   },
   {
    "duration": 13,
    "start_time": "2022-10-25T13:58:19.017Z"
   },
   {
    "duration": 7,
    "start_time": "2022-10-25T13:58:19.031Z"
   },
   {
    "duration": 23,
    "start_time": "2022-10-25T13:58:19.041Z"
   },
   {
    "duration": 2,
    "start_time": "2022-10-25T13:58:19.065Z"
   },
   {
    "duration": 71,
    "start_time": "2022-10-25T13:58:19.092Z"
   },
   {
    "duration": 0,
    "start_time": "2022-10-25T13:58:19.165Z"
   },
   {
    "duration": 0,
    "start_time": "2022-10-25T13:58:19.166Z"
   },
   {
    "duration": 0,
    "start_time": "2022-10-25T13:58:19.167Z"
   },
   {
    "duration": 0,
    "start_time": "2022-10-25T13:58:19.168Z"
   },
   {
    "duration": 1,
    "start_time": "2022-10-25T13:58:19.169Z"
   },
   {
    "duration": 0,
    "start_time": "2022-10-25T13:58:19.170Z"
   },
   {
    "duration": 0,
    "start_time": "2022-10-25T13:58:19.171Z"
   },
   {
    "duration": 0,
    "start_time": "2022-10-25T13:58:19.173Z"
   },
   {
    "duration": 4,
    "start_time": "2022-10-25T13:58:42.456Z"
   },
   {
    "duration": 6,
    "start_time": "2022-10-25T13:58:56.063Z"
   },
   {
    "duration": 28,
    "start_time": "2022-10-25T14:01:14.832Z"
   },
   {
    "duration": 23,
    "start_time": "2022-10-25T14:06:09.675Z"
   },
   {
    "duration": 7,
    "start_time": "2022-10-25T14:07:12.463Z"
   },
   {
    "duration": 7,
    "start_time": "2022-10-25T14:07:31.878Z"
   },
   {
    "duration": 14,
    "start_time": "2022-10-25T14:08:01.993Z"
   },
   {
    "duration": 20,
    "start_time": "2022-10-25T14:12:30.598Z"
   },
   {
    "duration": 439,
    "start_time": "2022-10-25T14:12:54.501Z"
   },
   {
    "duration": 217,
    "start_time": "2022-10-25T14:12:54.943Z"
   },
   {
    "duration": 13,
    "start_time": "2022-10-25T14:12:55.162Z"
   },
   {
    "duration": 43,
    "start_time": "2022-10-25T14:12:55.177Z"
   },
   {
    "duration": 3,
    "start_time": "2022-10-25T14:12:55.222Z"
   },
   {
    "duration": 5,
    "start_time": "2022-10-25T14:12:55.226Z"
   },
   {
    "duration": 19,
    "start_time": "2022-10-25T14:12:55.234Z"
   },
   {
    "duration": 36,
    "start_time": "2022-10-25T14:12:55.256Z"
   },
   {
    "duration": 44,
    "start_time": "2022-10-25T14:12:55.295Z"
   },
   {
    "duration": 68,
    "start_time": "2022-10-25T14:12:55.340Z"
   },
   {
    "duration": 39,
    "start_time": "2022-10-25T14:12:55.410Z"
   },
   {
    "duration": 86,
    "start_time": "2022-10-25T14:12:55.452Z"
   },
   {
    "duration": 93,
    "start_time": "2022-10-25T14:12:55.540Z"
   },
   {
    "duration": 77,
    "start_time": "2022-10-25T14:12:55.637Z"
   },
   {
    "duration": 37,
    "start_time": "2022-10-25T14:12:55.715Z"
   },
   {
    "duration": 12,
    "start_time": "2022-10-25T14:12:55.754Z"
   },
   {
    "duration": 54,
    "start_time": "2022-10-25T14:12:55.768Z"
   },
   {
    "duration": 12,
    "start_time": "2022-10-25T14:12:55.824Z"
   },
   {
    "duration": 13,
    "start_time": "2022-10-25T14:12:55.837Z"
   },
   {
    "duration": 3,
    "start_time": "2022-10-25T14:12:55.852Z"
   },
   {
    "duration": 63,
    "start_time": "2022-10-25T14:12:55.857Z"
   },
   {
    "duration": 15,
    "start_time": "2022-10-25T14:12:55.922Z"
   },
   {
    "duration": 17,
    "start_time": "2022-10-25T14:12:55.939Z"
   },
   {
    "duration": 45,
    "start_time": "2022-10-25T14:12:55.958Z"
   },
   {
    "duration": 19,
    "start_time": "2022-10-25T14:12:56.004Z"
   },
   {
    "duration": 16,
    "start_time": "2022-10-25T14:12:56.025Z"
   },
   {
    "duration": 103,
    "start_time": "2022-10-25T14:12:56.043Z"
   },
   {
    "duration": 0,
    "start_time": "2022-10-25T14:12:56.149Z"
   },
   {
    "duration": 0,
    "start_time": "2022-10-25T14:12:56.150Z"
   },
   {
    "duration": 0,
    "start_time": "2022-10-25T14:12:56.152Z"
   },
   {
    "duration": 0,
    "start_time": "2022-10-25T14:12:56.153Z"
   },
   {
    "duration": 0,
    "start_time": "2022-10-25T14:12:56.155Z"
   },
   {
    "duration": 0,
    "start_time": "2022-10-25T14:12:56.157Z"
   },
   {
    "duration": 0,
    "start_time": "2022-10-25T14:12:56.159Z"
   },
   {
    "duration": 0,
    "start_time": "2022-10-25T14:12:56.161Z"
   },
   {
    "duration": 0,
    "start_time": "2022-10-25T14:12:56.162Z"
   },
   {
    "duration": 0,
    "start_time": "2022-10-25T14:12:56.164Z"
   },
   {
    "duration": 0,
    "start_time": "2022-10-25T14:12:56.192Z"
   },
   {
    "duration": 30,
    "start_time": "2022-10-25T14:13:06.619Z"
   },
   {
    "duration": 9,
    "start_time": "2022-10-25T14:13:48.617Z"
   },
   {
    "duration": 7,
    "start_time": "2022-10-25T14:14:12.091Z"
   },
   {
    "duration": 9,
    "start_time": "2022-10-25T14:15:42.619Z"
   },
   {
    "duration": 7,
    "start_time": "2022-10-25T14:16:01.860Z"
   },
   {
    "duration": 21,
    "start_time": "2022-10-25T14:16:03.474Z"
   },
   {
    "duration": 7,
    "start_time": "2022-10-25T14:16:21.844Z"
   },
   {
    "duration": 19,
    "start_time": "2022-10-25T14:17:03.036Z"
   },
   {
    "duration": 21,
    "start_time": "2022-10-25T14:17:11.909Z"
   },
   {
    "duration": 446,
    "start_time": "2022-10-25T14:18:17.275Z"
   },
   {
    "duration": 171,
    "start_time": "2022-10-25T14:18:17.724Z"
   },
   {
    "duration": 11,
    "start_time": "2022-10-25T14:18:17.897Z"
   },
   {
    "duration": 44,
    "start_time": "2022-10-25T14:18:17.910Z"
   },
   {
    "duration": 2,
    "start_time": "2022-10-25T14:18:17.956Z"
   },
   {
    "duration": 31,
    "start_time": "2022-10-25T14:18:17.960Z"
   },
   {
    "duration": 20,
    "start_time": "2022-10-25T14:18:17.993Z"
   },
   {
    "duration": 7,
    "start_time": "2022-10-25T14:18:18.016Z"
   },
   {
    "duration": 48,
    "start_time": "2022-10-25T14:18:18.025Z"
   },
   {
    "duration": 44,
    "start_time": "2022-10-25T14:18:18.090Z"
   },
   {
    "duration": 25,
    "start_time": "2022-10-25T14:18:18.136Z"
   },
   {
    "duration": 84,
    "start_time": "2022-10-25T14:18:18.163Z"
   },
   {
    "duration": 98,
    "start_time": "2022-10-25T14:18:18.249Z"
   },
   {
    "duration": 72,
    "start_time": "2022-10-25T14:18:18.349Z"
   },
   {
    "duration": 49,
    "start_time": "2022-10-25T14:18:18.423Z"
   },
   {
    "duration": 25,
    "start_time": "2022-10-25T14:18:18.474Z"
   },
   {
    "duration": 35,
    "start_time": "2022-10-25T14:18:18.501Z"
   },
   {
    "duration": 11,
    "start_time": "2022-10-25T14:18:18.537Z"
   },
   {
    "duration": 11,
    "start_time": "2022-10-25T14:18:18.550Z"
   },
   {
    "duration": 28,
    "start_time": "2022-10-25T14:18:18.563Z"
   },
   {
    "duration": 30,
    "start_time": "2022-10-25T14:18:18.594Z"
   },
   {
    "duration": 14,
    "start_time": "2022-10-25T14:18:18.626Z"
   },
   {
    "duration": 16,
    "start_time": "2022-10-25T14:18:18.642Z"
   },
   {
    "duration": 43,
    "start_time": "2022-10-25T14:18:18.659Z"
   },
   {
    "duration": 16,
    "start_time": "2022-10-25T14:18:18.704Z"
   },
   {
    "duration": 16,
    "start_time": "2022-10-25T14:18:18.722Z"
   },
   {
    "duration": 10,
    "start_time": "2022-10-25T14:18:18.739Z"
   },
   {
    "duration": 55,
    "start_time": "2022-10-25T14:18:18.753Z"
   },
   {
    "duration": 20,
    "start_time": "2022-10-25T14:18:18.810Z"
   },
   {
    "duration": 77,
    "start_time": "2022-10-25T14:18:18.832Z"
   },
   {
    "duration": 0,
    "start_time": "2022-10-25T14:18:18.911Z"
   },
   {
    "duration": 0,
    "start_time": "2022-10-25T14:18:18.912Z"
   },
   {
    "duration": 0,
    "start_time": "2022-10-25T14:18:18.913Z"
   },
   {
    "duration": 0,
    "start_time": "2022-10-25T14:18:18.914Z"
   },
   {
    "duration": 0,
    "start_time": "2022-10-25T14:18:18.915Z"
   },
   {
    "duration": 0,
    "start_time": "2022-10-25T14:18:18.916Z"
   },
   {
    "duration": 0,
    "start_time": "2022-10-25T14:18:18.917Z"
   },
   {
    "duration": 0,
    "start_time": "2022-10-25T14:18:18.918Z"
   },
   {
    "duration": 12,
    "start_time": "2022-10-25T14:19:12.992Z"
   },
   {
    "duration": 9,
    "start_time": "2022-10-25T14:19:18.537Z"
   },
   {
    "duration": 9,
    "start_time": "2022-10-25T14:19:25.823Z"
   },
   {
    "duration": 8,
    "start_time": "2022-10-25T14:20:21.558Z"
   },
   {
    "duration": 9,
    "start_time": "2022-10-25T14:22:33.295Z"
   },
   {
    "duration": 7,
    "start_time": "2022-10-25T14:22:38.211Z"
   },
   {
    "duration": 9,
    "start_time": "2022-10-25T14:22:41.667Z"
   },
   {
    "duration": 405,
    "start_time": "2022-10-25T14:22:47.455Z"
   },
   {
    "duration": 188,
    "start_time": "2022-10-25T14:22:47.862Z"
   },
   {
    "duration": 9,
    "start_time": "2022-10-25T14:22:48.052Z"
   },
   {
    "duration": 42,
    "start_time": "2022-10-25T14:22:48.063Z"
   },
   {
    "duration": 2,
    "start_time": "2022-10-25T14:22:48.108Z"
   },
   {
    "duration": 8,
    "start_time": "2022-10-25T14:22:48.112Z"
   },
   {
    "duration": 16,
    "start_time": "2022-10-25T14:22:48.122Z"
   },
   {
    "duration": 5,
    "start_time": "2022-10-25T14:22:48.140Z"
   },
   {
    "duration": 52,
    "start_time": "2022-10-25T14:22:48.147Z"
   },
   {
    "duration": 49,
    "start_time": "2022-10-25T14:22:48.201Z"
   },
   {
    "duration": 42,
    "start_time": "2022-10-25T14:22:48.253Z"
   },
   {
    "duration": 71,
    "start_time": "2022-10-25T14:22:48.297Z"
   },
   {
    "duration": 112,
    "start_time": "2022-10-25T14:22:48.370Z"
   },
   {
    "duration": 70,
    "start_time": "2022-10-25T14:22:48.486Z"
   },
   {
    "duration": 58,
    "start_time": "2022-10-25T14:22:48.557Z"
   },
   {
    "duration": 14,
    "start_time": "2022-10-25T14:22:48.617Z"
   },
   {
    "duration": 42,
    "start_time": "2022-10-25T14:22:48.633Z"
   },
   {
    "duration": 12,
    "start_time": "2022-10-25T14:22:48.692Z"
   },
   {
    "duration": 13,
    "start_time": "2022-10-25T14:22:48.706Z"
   },
   {
    "duration": 4,
    "start_time": "2022-10-25T14:22:48.721Z"
   },
   {
    "duration": 34,
    "start_time": "2022-10-25T14:22:48.726Z"
   },
   {
    "duration": 41,
    "start_time": "2022-10-25T14:22:48.762Z"
   },
   {
    "duration": 22,
    "start_time": "2022-10-25T14:22:48.804Z"
   },
   {
    "duration": 24,
    "start_time": "2022-10-25T14:22:48.828Z"
   },
   {
    "duration": 46,
    "start_time": "2022-10-25T14:22:48.854Z"
   },
   {
    "duration": 18,
    "start_time": "2022-10-25T14:22:48.902Z"
   },
   {
    "duration": 19,
    "start_time": "2022-10-25T14:22:48.921Z"
   },
   {
    "duration": 10,
    "start_time": "2022-10-25T14:22:48.941Z"
   },
   {
    "duration": 41,
    "start_time": "2022-10-25T14:22:48.953Z"
   },
   {
    "duration": 76,
    "start_time": "2022-10-25T14:22:48.996Z"
   },
   {
    "duration": 0,
    "start_time": "2022-10-25T14:22:49.074Z"
   },
   {
    "duration": 0,
    "start_time": "2022-10-25T14:22:49.076Z"
   },
   {
    "duration": 0,
    "start_time": "2022-10-25T14:22:49.078Z"
   },
   {
    "duration": 0,
    "start_time": "2022-10-25T14:22:49.080Z"
   },
   {
    "duration": 0,
    "start_time": "2022-10-25T14:22:49.082Z"
   },
   {
    "duration": 0,
    "start_time": "2022-10-25T14:22:49.083Z"
   },
   {
    "duration": 0,
    "start_time": "2022-10-25T14:22:49.085Z"
   },
   {
    "duration": 0,
    "start_time": "2022-10-25T14:22:49.087Z"
   },
   {
    "duration": 7,
    "start_time": "2022-10-25T14:23:10.923Z"
   },
   {
    "duration": 10,
    "start_time": "2022-10-25T14:23:16.005Z"
   },
   {
    "duration": 64,
    "start_time": "2022-10-25T14:24:10.463Z"
   },
   {
    "duration": 7,
    "start_time": "2022-10-25T14:24:19.809Z"
   },
   {
    "duration": 9,
    "start_time": "2022-10-25T14:24:34.043Z"
   },
   {
    "duration": 7,
    "start_time": "2022-10-25T14:24:39.568Z"
   },
   {
    "duration": 47,
    "start_time": "2022-10-26T06:18:13.745Z"
   },
   {
    "duration": 9,
    "start_time": "2022-10-26T06:18:22.645Z"
   },
   {
    "duration": 10,
    "start_time": "2022-10-26T06:18:42.280Z"
   },
   {
    "duration": 405,
    "start_time": "2022-10-26T06:18:53.775Z"
   },
   {
    "duration": 522,
    "start_time": "2022-10-26T06:18:54.183Z"
   },
   {
    "duration": 8,
    "start_time": "2022-10-26T06:18:54.707Z"
   },
   {
    "duration": 45,
    "start_time": "2022-10-26T06:18:54.717Z"
   },
   {
    "duration": 3,
    "start_time": "2022-10-26T06:18:54.764Z"
   },
   {
    "duration": 5,
    "start_time": "2022-10-26T06:18:54.768Z"
   },
   {
    "duration": 13,
    "start_time": "2022-10-26T06:18:54.774Z"
   },
   {
    "duration": 4,
    "start_time": "2022-10-26T06:18:54.789Z"
   },
   {
    "duration": 71,
    "start_time": "2022-10-26T06:18:54.794Z"
   },
   {
    "duration": 47,
    "start_time": "2022-10-26T06:18:54.868Z"
   },
   {
    "duration": 39,
    "start_time": "2022-10-26T06:18:54.916Z"
   },
   {
    "duration": 79,
    "start_time": "2022-10-26T06:18:54.956Z"
   },
   {
    "duration": 77,
    "start_time": "2022-10-26T06:18:55.037Z"
   },
   {
    "duration": 64,
    "start_time": "2022-10-26T06:18:55.124Z"
   },
   {
    "duration": 57,
    "start_time": "2022-10-26T06:18:55.189Z"
   },
   {
    "duration": 15,
    "start_time": "2022-10-26T06:18:55.249Z"
   },
   {
    "duration": 42,
    "start_time": "2022-10-26T06:18:55.266Z"
   },
   {
    "duration": 30,
    "start_time": "2022-10-26T06:18:55.310Z"
   },
   {
    "duration": 13,
    "start_time": "2022-10-26T06:18:55.343Z"
   },
   {
    "duration": 4,
    "start_time": "2022-10-26T06:18:55.358Z"
   },
   {
    "duration": 33,
    "start_time": "2022-10-26T06:18:55.364Z"
   },
   {
    "duration": 26,
    "start_time": "2022-10-26T06:18:55.424Z"
   },
   {
    "duration": 21,
    "start_time": "2022-10-26T06:18:55.453Z"
   },
   {
    "duration": 16,
    "start_time": "2022-10-26T06:18:55.476Z"
   },
   {
    "duration": 44,
    "start_time": "2022-10-26T06:18:55.494Z"
   },
   {
    "duration": 16,
    "start_time": "2022-10-26T06:18:55.541Z"
   },
   {
    "duration": 10,
    "start_time": "2022-10-26T06:18:55.558Z"
   },
   {
    "duration": 96,
    "start_time": "2022-10-26T06:18:55.571Z"
   },
   {
    "duration": 0,
    "start_time": "2022-10-26T06:18:55.668Z"
   },
   {
    "duration": 0,
    "start_time": "2022-10-26T06:18:55.669Z"
   },
   {
    "duration": 0,
    "start_time": "2022-10-26T06:18:55.670Z"
   },
   {
    "duration": 0,
    "start_time": "2022-10-26T06:18:55.671Z"
   },
   {
    "duration": 0,
    "start_time": "2022-10-26T06:18:55.673Z"
   },
   {
    "duration": 0,
    "start_time": "2022-10-26T06:18:55.674Z"
   },
   {
    "duration": 0,
    "start_time": "2022-10-26T06:18:55.675Z"
   },
   {
    "duration": 0,
    "start_time": "2022-10-26T06:18:55.676Z"
   },
   {
    "duration": 0,
    "start_time": "2022-10-26T06:18:55.677Z"
   },
   {
    "duration": 0,
    "start_time": "2022-10-26T06:18:55.678Z"
   },
   {
    "duration": 9,
    "start_time": "2022-10-26T06:19:08.591Z"
   },
   {
    "duration": 13,
    "start_time": "2022-10-26T06:19:18.545Z"
   },
   {
    "duration": 8,
    "start_time": "2022-10-26T06:19:38.593Z"
   },
   {
    "duration": 11,
    "start_time": "2022-10-26T06:28:31.814Z"
   },
   {
    "duration": 8,
    "start_time": "2022-10-26T06:28:35.299Z"
   },
   {
    "duration": 411,
    "start_time": "2022-10-26T06:29:33.067Z"
   },
   {
    "duration": 188,
    "start_time": "2022-10-26T06:29:33.480Z"
   },
   {
    "duration": 9,
    "start_time": "2022-10-26T06:29:33.669Z"
   },
   {
    "duration": 33,
    "start_time": "2022-10-26T06:29:33.681Z"
   },
   {
    "duration": 3,
    "start_time": "2022-10-26T06:29:33.724Z"
   },
   {
    "duration": 4,
    "start_time": "2022-10-26T06:29:33.729Z"
   },
   {
    "duration": 14,
    "start_time": "2022-10-26T06:29:33.735Z"
   },
   {
    "duration": 5,
    "start_time": "2022-10-26T06:29:33.751Z"
   },
   {
    "duration": 32,
    "start_time": "2022-10-26T06:29:33.758Z"
   },
   {
    "duration": 49,
    "start_time": "2022-10-26T06:29:33.823Z"
   },
   {
    "duration": 25,
    "start_time": "2022-10-26T06:29:33.873Z"
   },
   {
    "duration": 91,
    "start_time": "2022-10-26T06:29:33.900Z"
   },
   {
    "duration": 88,
    "start_time": "2022-10-26T06:29:33.992Z"
   },
   {
    "duration": 64,
    "start_time": "2022-10-26T06:29:34.082Z"
   },
   {
    "duration": 49,
    "start_time": "2022-10-26T06:29:34.147Z"
   },
   {
    "duration": 28,
    "start_time": "2022-10-26T06:29:34.198Z"
   },
   {
    "duration": 38,
    "start_time": "2022-10-26T06:29:34.228Z"
   },
   {
    "duration": 11,
    "start_time": "2022-10-26T06:29:34.268Z"
   },
   {
    "duration": 13,
    "start_time": "2022-10-26T06:29:34.280Z"
   },
   {
    "duration": 30,
    "start_time": "2022-10-26T06:29:34.295Z"
   },
   {
    "duration": 30,
    "start_time": "2022-10-26T06:29:34.327Z"
   },
   {
    "duration": 15,
    "start_time": "2022-10-26T06:29:34.359Z"
   },
   {
    "duration": 16,
    "start_time": "2022-10-26T06:29:34.375Z"
   },
   {
    "duration": 42,
    "start_time": "2022-10-26T06:29:34.392Z"
   },
   {
    "duration": 18,
    "start_time": "2022-10-26T06:29:34.435Z"
   },
   {
    "duration": 15,
    "start_time": "2022-10-26T06:29:34.454Z"
   },
   {
    "duration": 10,
    "start_time": "2022-10-26T06:29:34.471Z"
   },
   {
    "duration": 41,
    "start_time": "2022-10-26T06:29:34.483Z"
   },
   {
    "duration": 9,
    "start_time": "2022-10-26T06:29:34.526Z"
   },
   {
    "duration": 72,
    "start_time": "2022-10-26T06:29:34.537Z"
   },
   {
    "duration": 0,
    "start_time": "2022-10-26T06:29:34.610Z"
   },
   {
    "duration": 0,
    "start_time": "2022-10-26T06:29:34.611Z"
   },
   {
    "duration": 0,
    "start_time": "2022-10-26T06:29:34.613Z"
   },
   {
    "duration": 0,
    "start_time": "2022-10-26T06:29:34.614Z"
   },
   {
    "duration": 0,
    "start_time": "2022-10-26T06:29:34.615Z"
   },
   {
    "duration": 0,
    "start_time": "2022-10-26T06:29:34.616Z"
   },
   {
    "duration": 0,
    "start_time": "2022-10-26T06:29:34.617Z"
   },
   {
    "duration": 0,
    "start_time": "2022-10-26T06:29:34.618Z"
   },
   {
    "duration": 10,
    "start_time": "2022-10-26T06:30:42.580Z"
   },
   {
    "duration": 12,
    "start_time": "2022-10-26T06:30:49.867Z"
   },
   {
    "duration": 7,
    "start_time": "2022-10-26T06:31:06.795Z"
   },
   {
    "duration": 20,
    "start_time": "2022-10-26T06:45:21.660Z"
   },
   {
    "duration": 26,
    "start_time": "2022-10-26T06:45:34.629Z"
   },
   {
    "duration": 11,
    "start_time": "2022-10-26T06:47:20.207Z"
   },
   {
    "duration": 7,
    "start_time": "2022-10-26T06:47:25.975Z"
   },
   {
    "duration": 7,
    "start_time": "2022-10-26T06:47:29.856Z"
   },
   {
    "duration": 8,
    "start_time": "2022-10-26T06:47:35.989Z"
   },
   {
    "duration": 407,
    "start_time": "2022-10-26T06:47:59.537Z"
   },
   {
    "duration": 183,
    "start_time": "2022-10-26T06:47:59.946Z"
   },
   {
    "duration": 11,
    "start_time": "2022-10-26T06:48:00.131Z"
   },
   {
    "duration": 32,
    "start_time": "2022-10-26T06:48:00.143Z"
   },
   {
    "duration": 3,
    "start_time": "2022-10-26T06:48:00.177Z"
   },
   {
    "duration": 10,
    "start_time": "2022-10-26T06:48:00.181Z"
   },
   {
    "duration": 38,
    "start_time": "2022-10-26T06:48:00.193Z"
   },
   {
    "duration": 8,
    "start_time": "2022-10-26T06:48:00.233Z"
   },
   {
    "duration": 41,
    "start_time": "2022-10-26T06:48:00.244Z"
   },
   {
    "duration": 68,
    "start_time": "2022-10-26T06:48:00.287Z"
   },
   {
    "duration": 27,
    "start_time": "2022-10-26T06:48:00.357Z"
   },
   {
    "duration": 94,
    "start_time": "2022-10-26T06:48:00.386Z"
   },
   {
    "duration": 93,
    "start_time": "2022-10-26T06:48:00.482Z"
   },
   {
    "duration": 85,
    "start_time": "2022-10-26T06:48:00.580Z"
   },
   {
    "duration": 40,
    "start_time": "2022-10-26T06:48:00.667Z"
   },
   {
    "duration": 25,
    "start_time": "2022-10-26T06:48:00.709Z"
   },
   {
    "duration": 67,
    "start_time": "2022-10-26T06:48:00.737Z"
   },
   {
    "duration": 21,
    "start_time": "2022-10-26T06:48:00.805Z"
   },
   {
    "duration": 11,
    "start_time": "2022-10-26T06:48:00.828Z"
   },
   {
    "duration": 8,
    "start_time": "2022-10-26T06:48:00.840Z"
   },
   {
    "duration": 32,
    "start_time": "2022-10-26T06:48:00.849Z"
   },
   {
    "duration": 42,
    "start_time": "2022-10-26T06:48:00.883Z"
   },
   {
    "duration": 16,
    "start_time": "2022-10-26T06:48:00.926Z"
   },
   {
    "duration": 19,
    "start_time": "2022-10-26T06:48:00.944Z"
   },
   {
    "duration": 36,
    "start_time": "2022-10-26T06:48:00.966Z"
   },
   {
    "duration": 36,
    "start_time": "2022-10-26T06:48:01.004Z"
   },
   {
    "duration": 24,
    "start_time": "2022-10-26T06:48:01.042Z"
   },
   {
    "duration": 24,
    "start_time": "2022-10-26T06:48:01.069Z"
   },
   {
    "duration": 32,
    "start_time": "2022-10-26T06:48:01.095Z"
   },
   {
    "duration": 75,
    "start_time": "2022-10-26T06:48:01.129Z"
   },
   {
    "duration": 0,
    "start_time": "2022-10-26T06:48:01.206Z"
   },
   {
    "duration": 0,
    "start_time": "2022-10-26T06:48:01.207Z"
   },
   {
    "duration": 0,
    "start_time": "2022-10-26T06:48:01.209Z"
   },
   {
    "duration": 0,
    "start_time": "2022-10-26T06:48:01.210Z"
   },
   {
    "duration": 0,
    "start_time": "2022-10-26T06:48:01.210Z"
   },
   {
    "duration": 0,
    "start_time": "2022-10-26T06:48:01.212Z"
   },
   {
    "duration": 0,
    "start_time": "2022-10-26T06:48:01.213Z"
   },
   {
    "duration": 0,
    "start_time": "2022-10-26T06:48:01.214Z"
   },
   {
    "duration": 13,
    "start_time": "2022-10-26T06:54:19.012Z"
   },
   {
    "duration": 9,
    "start_time": "2022-10-26T06:54:23.236Z"
   },
   {
    "duration": 11,
    "start_time": "2022-10-26T06:54:27.971Z"
   },
   {
    "duration": 420,
    "start_time": "2022-10-26T06:55:39.510Z"
   },
   {
    "duration": 180,
    "start_time": "2022-10-26T06:55:39.932Z"
   },
   {
    "duration": 8,
    "start_time": "2022-10-26T06:55:40.114Z"
   },
   {
    "duration": 68,
    "start_time": "2022-10-26T06:55:40.124Z"
   },
   {
    "duration": 6,
    "start_time": "2022-10-26T06:55:40.194Z"
   },
   {
    "duration": 7,
    "start_time": "2022-10-26T06:55:40.202Z"
   },
   {
    "duration": 44,
    "start_time": "2022-10-26T06:55:40.211Z"
   },
   {
    "duration": 31,
    "start_time": "2022-10-26T06:55:40.257Z"
   },
   {
    "duration": 68,
    "start_time": "2022-10-26T06:55:40.290Z"
   },
   {
    "duration": 48,
    "start_time": "2022-10-26T06:55:40.362Z"
   },
   {
    "duration": 28,
    "start_time": "2022-10-26T06:55:40.423Z"
   },
   {
    "duration": 88,
    "start_time": "2022-10-26T06:55:40.452Z"
   },
   {
    "duration": 100,
    "start_time": "2022-10-26T06:55:40.541Z"
   },
   {
    "duration": 61,
    "start_time": "2022-10-26T06:55:40.643Z"
   },
   {
    "duration": 53,
    "start_time": "2022-10-26T06:55:40.706Z"
   },
   {
    "duration": 11,
    "start_time": "2022-10-26T06:55:40.761Z"
   },
   {
    "duration": 60,
    "start_time": "2022-10-26T06:55:40.773Z"
   },
   {
    "duration": 18,
    "start_time": "2022-10-26T06:55:40.835Z"
   },
   {
    "duration": 26,
    "start_time": "2022-10-26T06:55:40.855Z"
   },
   {
    "duration": 11,
    "start_time": "2022-10-26T06:55:40.883Z"
   },
   {
    "duration": 53,
    "start_time": "2022-10-26T06:55:40.897Z"
   },
   {
    "duration": 16,
    "start_time": "2022-10-26T06:55:40.952Z"
   },
   {
    "duration": 18,
    "start_time": "2022-10-26T06:55:40.970Z"
   },
   {
    "duration": 34,
    "start_time": "2022-10-26T06:55:40.990Z"
   },
   {
    "duration": 19,
    "start_time": "2022-10-26T06:55:41.026Z"
   },
   {
    "duration": 16,
    "start_time": "2022-10-26T06:55:41.047Z"
   },
   {
    "duration": 26,
    "start_time": "2022-10-26T06:55:41.065Z"
   },
   {
    "duration": 40,
    "start_time": "2022-10-26T06:55:41.094Z"
   },
   {
    "duration": 19,
    "start_time": "2022-10-26T06:55:41.135Z"
   },
   {
    "duration": 70,
    "start_time": "2022-10-26T06:55:41.156Z"
   },
   {
    "duration": 0,
    "start_time": "2022-10-26T06:55:41.228Z"
   },
   {
    "duration": 0,
    "start_time": "2022-10-26T06:55:41.229Z"
   },
   {
    "duration": 0,
    "start_time": "2022-10-26T06:55:41.231Z"
   },
   {
    "duration": 0,
    "start_time": "2022-10-26T06:55:41.232Z"
   },
   {
    "duration": 0,
    "start_time": "2022-10-26T06:55:41.233Z"
   },
   {
    "duration": 1,
    "start_time": "2022-10-26T06:55:41.234Z"
   },
   {
    "duration": 0,
    "start_time": "2022-10-26T06:55:41.236Z"
   },
   {
    "duration": 0,
    "start_time": "2022-10-26T06:55:41.237Z"
   },
   {
    "duration": 425,
    "start_time": "2022-10-26T07:02:55.214Z"
   },
   {
    "duration": 174,
    "start_time": "2022-10-26T07:02:55.641Z"
   },
   {
    "duration": 9,
    "start_time": "2022-10-26T07:02:55.817Z"
   },
   {
    "duration": 36,
    "start_time": "2022-10-26T07:02:55.827Z"
   },
   {
    "duration": 3,
    "start_time": "2022-10-26T07:02:55.865Z"
   },
   {
    "duration": 11,
    "start_time": "2022-10-26T07:02:55.869Z"
   },
   {
    "duration": 21,
    "start_time": "2022-10-26T07:02:55.881Z"
   },
   {
    "duration": 8,
    "start_time": "2022-10-26T07:02:55.903Z"
   },
   {
    "duration": 37,
    "start_time": "2022-10-26T07:02:55.912Z"
   },
   {
    "duration": 45,
    "start_time": "2022-10-26T07:02:55.950Z"
   },
   {
    "duration": 38,
    "start_time": "2022-10-26T07:02:55.997Z"
   },
   {
    "duration": 72,
    "start_time": "2022-10-26T07:02:56.036Z"
   },
   {
    "duration": 93,
    "start_time": "2022-10-26T07:02:56.110Z"
   },
   {
    "duration": 65,
    "start_time": "2022-10-26T07:02:56.206Z"
   },
   {
    "duration": 39,
    "start_time": "2022-10-26T07:02:56.273Z"
   },
   {
    "duration": 12,
    "start_time": "2022-10-26T07:02:56.323Z"
   },
   {
    "duration": 44,
    "start_time": "2022-10-26T07:02:56.337Z"
   },
   {
    "duration": 11,
    "start_time": "2022-10-26T07:02:56.382Z"
   },
   {
    "duration": 29,
    "start_time": "2022-10-26T07:02:56.395Z"
   },
   {
    "duration": 3,
    "start_time": "2022-10-26T07:02:56.426Z"
   },
   {
    "duration": 41,
    "start_time": "2022-10-26T07:02:56.431Z"
   },
   {
    "duration": 14,
    "start_time": "2022-10-26T07:02:56.473Z"
   },
   {
    "duration": 14,
    "start_time": "2022-10-26T07:02:56.489Z"
   },
   {
    "duration": 24,
    "start_time": "2022-10-26T07:02:56.504Z"
   },
   {
    "duration": 17,
    "start_time": "2022-10-26T07:02:56.529Z"
   },
   {
    "duration": 15,
    "start_time": "2022-10-26T07:02:56.547Z"
   },
   {
    "duration": 9,
    "start_time": "2022-10-26T07:02:56.564Z"
   },
   {
    "duration": 53,
    "start_time": "2022-10-26T07:02:56.575Z"
   },
   {
    "duration": 19,
    "start_time": "2022-10-26T07:02:56.630Z"
   },
   {
    "duration": 75,
    "start_time": "2022-10-26T07:02:56.650Z"
   },
   {
    "duration": 0,
    "start_time": "2022-10-26T07:02:56.727Z"
   },
   {
    "duration": 0,
    "start_time": "2022-10-26T07:02:56.728Z"
   },
   {
    "duration": 0,
    "start_time": "2022-10-26T07:02:56.729Z"
   },
   {
    "duration": 0,
    "start_time": "2022-10-26T07:02:56.730Z"
   },
   {
    "duration": 0,
    "start_time": "2022-10-26T07:02:56.731Z"
   },
   {
    "duration": 0,
    "start_time": "2022-10-26T07:02:56.732Z"
   },
   {
    "duration": 0,
    "start_time": "2022-10-26T07:02:56.733Z"
   },
   {
    "duration": 0,
    "start_time": "2022-10-26T07:02:56.734Z"
   },
   {
    "duration": 17,
    "start_time": "2022-10-26T07:03:03.614Z"
   },
   {
    "duration": 18,
    "start_time": "2022-10-26T07:03:08.591Z"
   },
   {
    "duration": 12,
    "start_time": "2022-10-26T07:08:35.084Z"
   },
   {
    "duration": 19,
    "start_time": "2022-10-26T07:09:25.881Z"
   },
   {
    "duration": 23,
    "start_time": "2022-10-26T07:09:29.136Z"
   },
   {
    "duration": 12,
    "start_time": "2022-10-26T07:11:30.308Z"
   },
   {
    "duration": 9,
    "start_time": "2022-10-26T07:11:35.212Z"
   },
   {
    "duration": 116,
    "start_time": "2022-10-26T07:40:13.055Z"
   },
   {
    "duration": 7,
    "start_time": "2022-10-26T07:42:01.772Z"
   },
   {
    "duration": 23,
    "start_time": "2022-10-26T07:52:29.716Z"
   },
   {
    "duration": 398,
    "start_time": "2022-10-26T07:56:15.463Z"
   },
   {
    "duration": 189,
    "start_time": "2022-10-26T07:56:15.864Z"
   },
   {
    "duration": 9,
    "start_time": "2022-10-26T07:56:16.055Z"
   },
   {
    "duration": 32,
    "start_time": "2022-10-26T07:56:16.066Z"
   },
   {
    "duration": 2,
    "start_time": "2022-10-26T07:56:16.100Z"
   },
   {
    "duration": 21,
    "start_time": "2022-10-26T07:56:16.104Z"
   },
   {
    "duration": 14,
    "start_time": "2022-10-26T07:56:16.127Z"
   },
   {
    "duration": 5,
    "start_time": "2022-10-26T07:56:16.143Z"
   },
   {
    "duration": 37,
    "start_time": "2022-10-26T07:56:16.150Z"
   },
   {
    "duration": 76,
    "start_time": "2022-10-26T07:56:16.189Z"
   },
   {
    "duration": 27,
    "start_time": "2022-10-26T07:56:16.267Z"
   },
   {
    "duration": 90,
    "start_time": "2022-10-26T07:56:16.295Z"
   },
   {
    "duration": 93,
    "start_time": "2022-10-26T07:56:16.387Z"
   },
   {
    "duration": 70,
    "start_time": "2022-10-26T07:56:16.483Z"
   },
   {
    "duration": 42,
    "start_time": "2022-10-26T07:56:16.554Z"
   },
   {
    "duration": 27,
    "start_time": "2022-10-26T07:56:16.597Z"
   },
   {
    "duration": 42,
    "start_time": "2022-10-26T07:56:16.626Z"
   },
   {
    "duration": 12,
    "start_time": "2022-10-26T07:56:16.669Z"
   },
   {
    "duration": 12,
    "start_time": "2022-10-26T07:56:16.682Z"
   },
   {
    "duration": 30,
    "start_time": "2022-10-26T07:56:16.695Z"
   },
   {
    "duration": 36,
    "start_time": "2022-10-26T07:56:16.727Z"
   },
   {
    "duration": 17,
    "start_time": "2022-10-26T07:56:16.765Z"
   },
   {
    "duration": 47,
    "start_time": "2022-10-26T07:56:16.783Z"
   },
   {
    "duration": 16,
    "start_time": "2022-10-26T07:56:16.831Z"
   },
   {
    "duration": 18,
    "start_time": "2022-10-26T07:56:16.848Z"
   },
   {
    "duration": 17,
    "start_time": "2022-10-26T07:56:16.868Z"
   },
   {
    "duration": 38,
    "start_time": "2022-10-26T07:56:16.887Z"
   },
   {
    "duration": 23,
    "start_time": "2022-10-26T07:56:16.926Z"
   },
   {
    "duration": 9,
    "start_time": "2022-10-26T07:56:16.951Z"
   },
   {
    "duration": 5,
    "start_time": "2022-10-26T07:56:16.963Z"
   },
   {
    "duration": 5,
    "start_time": "2022-10-26T07:56:16.970Z"
   },
   {
    "duration": 4,
    "start_time": "2022-10-26T07:56:16.977Z"
   },
   {
    "duration": 7,
    "start_time": "2022-10-26T07:56:16.983Z"
   },
   {
    "duration": 34,
    "start_time": "2022-10-26T07:56:16.992Z"
   },
   {
    "duration": 4,
    "start_time": "2022-10-26T07:56:17.028Z"
   },
   {
    "duration": 5,
    "start_time": "2022-10-26T07:56:17.034Z"
   },
   {
    "duration": 4,
    "start_time": "2022-10-26T07:56:17.041Z"
   },
   {
    "duration": 4,
    "start_time": "2022-10-26T07:56:17.047Z"
   },
   {
    "duration": 384,
    "start_time": "2022-10-26T08:03:18.473Z"
   },
   {
    "duration": 184,
    "start_time": "2022-10-26T08:03:18.859Z"
   },
   {
    "duration": 8,
    "start_time": "2022-10-26T08:03:19.045Z"
   },
   {
    "duration": 32,
    "start_time": "2022-10-26T08:03:19.055Z"
   },
   {
    "duration": 3,
    "start_time": "2022-10-26T08:03:19.089Z"
   },
   {
    "duration": 5,
    "start_time": "2022-10-26T08:03:19.093Z"
   },
   {
    "duration": 35,
    "start_time": "2022-10-26T08:03:19.100Z"
   },
   {
    "duration": 8,
    "start_time": "2022-10-26T08:03:19.137Z"
   },
   {
    "duration": 31,
    "start_time": "2022-10-26T08:03:19.147Z"
   },
   {
    "duration": 64,
    "start_time": "2022-10-26T08:03:19.181Z"
   },
   {
    "duration": 26,
    "start_time": "2022-10-26T08:03:19.247Z"
   },
   {
    "duration": 80,
    "start_time": "2022-10-26T08:03:19.275Z"
   },
   {
    "duration": 91,
    "start_time": "2022-10-26T08:03:19.356Z"
   },
   {
    "duration": 60,
    "start_time": "2022-10-26T08:03:19.448Z"
   },
   {
    "duration": 51,
    "start_time": "2022-10-26T08:03:19.510Z"
   },
   {
    "duration": 11,
    "start_time": "2022-10-26T08:03:19.562Z"
   },
   {
    "duration": 57,
    "start_time": "2022-10-26T08:03:19.575Z"
   },
   {
    "duration": 11,
    "start_time": "2022-10-26T08:03:19.633Z"
   },
   {
    "duration": 12,
    "start_time": "2022-10-26T08:03:19.645Z"
   },
   {
    "duration": 3,
    "start_time": "2022-10-26T08:03:19.659Z"
   },
   {
    "duration": 33,
    "start_time": "2022-10-26T08:03:19.663Z"
   },
   {
    "duration": 37,
    "start_time": "2022-10-26T08:03:19.698Z"
   },
   {
    "duration": 15,
    "start_time": "2022-10-26T08:03:19.737Z"
   },
   {
    "duration": 15,
    "start_time": "2022-10-26T08:03:19.753Z"
   },
   {
    "duration": 17,
    "start_time": "2022-10-26T08:03:19.770Z"
   },
   {
    "duration": 45,
    "start_time": "2022-10-26T08:03:19.789Z"
   },
   {
    "duration": 10,
    "start_time": "2022-10-26T08:03:19.836Z"
   },
   {
    "duration": 22,
    "start_time": "2022-10-26T08:03:19.849Z"
   },
   {
    "duration": 9,
    "start_time": "2022-10-26T08:03:19.872Z"
   },
   {
    "duration": 5,
    "start_time": "2022-10-26T08:03:19.883Z"
   },
   {
    "duration": 38,
    "start_time": "2022-10-26T08:03:19.889Z"
   },
   {
    "duration": 6,
    "start_time": "2022-10-26T08:03:19.929Z"
   },
   {
    "duration": 9,
    "start_time": "2022-10-26T08:03:19.937Z"
   },
   {
    "duration": 8,
    "start_time": "2022-10-26T08:03:19.948Z"
   },
   {
    "duration": 8,
    "start_time": "2022-10-26T08:03:19.958Z"
   },
   {
    "duration": 9,
    "start_time": "2022-10-26T08:03:19.967Z"
   },
   {
    "duration": 5,
    "start_time": "2022-10-26T08:03:19.977Z"
   },
   {
    "duration": 4,
    "start_time": "2022-10-26T08:03:19.983Z"
   },
   {
    "duration": 7,
    "start_time": "2022-10-26T08:06:51.963Z"
   },
   {
    "duration": 80,
    "start_time": "2022-10-26T08:08:41.253Z"
   },
   {
    "duration": 29,
    "start_time": "2022-10-26T08:09:52.452Z"
   },
   {
    "duration": 18,
    "start_time": "2022-10-26T08:52:12.386Z"
   },
   {
    "duration": 31,
    "start_time": "2022-10-26T08:53:21.997Z"
   },
   {
    "duration": 20,
    "start_time": "2022-10-26T08:53:45.080Z"
   },
   {
    "duration": 15,
    "start_time": "2022-10-26T08:54:26.848Z"
   },
   {
    "duration": 13,
    "start_time": "2022-10-26T08:54:57.547Z"
   },
   {
    "duration": 9,
    "start_time": "2022-10-26T09:08:46.243Z"
   },
   {
    "duration": 6,
    "start_time": "2022-10-26T09:10:16.251Z"
   },
   {
    "duration": 6,
    "start_time": "2022-10-26T09:18:54.259Z"
   },
   {
    "duration": 5,
    "start_time": "2022-10-26T09:19:36.964Z"
   }
  ],
  "colab": {
   "collapsed_sections": [
    "E0vqbgi9ay0H",
    "VUC88oWjTJw2"
   ],
   "name": "automatization_template_upd4.ipynb",
   "provenance": []
  },
  "kernelspec": {
   "display_name": "Python 3 (ipykernel)",
   "language": "python",
   "name": "python3"
  },
  "language_info": {
   "codemirror_mode": {
    "name": "ipython",
    "version": 3
   },
   "file_extension": ".py",
   "mimetype": "text/x-python",
   "name": "python",
   "nbconvert_exporter": "python",
   "pygments_lexer": "ipython3",
   "version": "3.9.5"
  },
  "toc": {
   "base_numbering": 1,
   "nav_menu": {
    "height": "215px",
    "width": "403px"
   },
   "number_sections": true,
   "sideBar": true,
   "skip_h1_title": true,
   "title_cell": "Table of Contents",
   "title_sidebar": "Contents",
   "toc_cell": false,
   "toc_position": {
    "height": "calc(100% - 180px)",
    "left": "10px",
    "top": "150px",
    "width": "285.825px"
   },
   "toc_section_display": true,
   "toc_window_display": false
  }
 },
 "nbformat": 4,
 "nbformat_minor": 1
}
